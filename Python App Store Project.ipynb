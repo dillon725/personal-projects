{
 "cells": [
  {
   "cell_type": "markdown",
   "metadata": {},
   "source": [
    "# Free to Download App Analysis\n",
    "\n",
    "This project is about free to download mobile apps and the goal of this project is to identify which type of apps are likely to attract the most users. Using that information developers can create popular apps that generate revenue through in-app advertisements.\n",
    "\n",
    "There are two free datasets that we will be using for our analysis.\n",
    "\n",
    "- [A data set](https://www.kaggle.com/lava18/google-play-store-apps) containing data about approximately 10,000 Android apps from Google Play; the data was collected in August 2018. You can download the data set directly from this [link](https://dq-content.s3.amazonaws.com/350/googleplaystore.csv).\n",
    "\n",
    "- [A data set](https://www.kaggle.com/ramamet4/app-store-apple-data-set-10k-apps) containing data about approximately 7,000 iOS apps from the App Store; the data was collected in July 2017. You can download the data set directly from this [link](https://dq-content.s3.amazonaws.com/350/AppleStore.csv)."
   ]
  },
  {
   "cell_type": "markdown",
   "metadata": {},
   "source": [
    "# Exploration\n",
    "\n",
    "Let's start by getting to understand the data that we're working with. We'll need to create functions to help open and explore the data."
   ]
  },
  {
   "cell_type": "code",
   "execution_count": 1,
   "metadata": {
    "collapsed": false
   },
   "outputs": [],
   "source": [
    "# Function for opening, reading and listing a csv\n",
    "def open_read_list(file_name):\n",
    "    opened_file = open(file_name)\n",
    "    from csv import reader\n",
    "    read_file = reader(opened_file)\n",
    "    app_data = list(read_file)\n",
    "    return app_data\n",
    "\n",
    "#Function for exploring data\n",
    "def explore_data(dataset, start, end, rows_and_columns=False):\n",
    "    dataset_slice = dataset[start:end]    \n",
    "    for row in dataset_slice:\n",
    "        print(row)\n",
    "        print('\\n') # adds a new (empty) line after each row\n",
    "\n",
    "    if rows_and_columns:\n",
    "        print('Number of rows:', len(dataset))\n",
    "        print('Number of columns:', len(dataset[0]))"
   ]
  },
  {
   "cell_type": "markdown",
   "metadata": {},
   "source": [
    "Next, lets splice our data and save them as variables that are easy to reference."
   ]
  },
  {
   "cell_type": "code",
   "execution_count": 2,
   "metadata": {
    "collapsed": false
   },
   "outputs": [],
   "source": [
    "# Saving datasets to variables we can reference\n",
    "ios = open_read_list('AppleStore.csv')\n",
    "android = open_read_list('googleplaystore.csv')\n",
    "\n",
    "#ios variables\n",
    "ios_header = ios[0]\n",
    "ios_data = ios[1:]\n",
    "\n",
    "#android variables\n",
    "android_header = android[0]\n",
    "android_data = android[1:]"
   ]
  },
  {
   "cell_type": "markdown",
   "metadata": {},
   "source": [
    "Now that we have our functions and variables set up, let's explore the datasets starting with the ios apps."
   ]
  },
  {
   "cell_type": "code",
   "execution_count": 3,
   "metadata": {
    "collapsed": false
   },
   "outputs": [
    {
     "name": "stdout",
     "output_type": "stream",
     "text": [
      "['id', 'track_name', 'size_bytes', 'currency', 'price', 'rating_count_tot', 'rating_count_ver', 'user_rating', 'user_rating_ver', 'ver', 'cont_rating', 'prime_genre', 'sup_devices.num', 'ipadSc_urls.num', 'lang.num', 'vpp_lic']\n",
      "\n",
      "\n",
      "['284882215', 'Facebook', '389879808', 'USD', '0.0', '2974676', '212', '3.5', '3.5', '95.0', '4+', 'Social Networking', '37', '1', '29', '1']\n",
      "\n",
      "\n",
      "['389801252', 'Instagram', '113954816', 'USD', '0.0', '2161558', '1289', '4.5', '4.0', '10.23', '12+', 'Photo & Video', '37', '0', '29', '1']\n",
      "\n",
      "\n",
      "['529479190', 'Clash of Clans', '116476928', 'USD', '0.0', '2130805', '579', '4.5', '4.5', '9.24.12', '9+', 'Games', '38', '5', '18', '1']\n",
      "\n",
      "\n",
      "['420009108', 'Temple Run', '65921024', 'USD', '0.0', '1724546', '3842', '4.5', '4.0', '1.6.2', '9+', 'Games', '40', '5', '1', '1']\n",
      "\n",
      "\n",
      "Number of rows: 7197\n",
      "Number of columns: 16\n"
     ]
    }
   ],
   "source": [
    "#exploring ios apps\n",
    "print(ios_header)\n",
    "print('\\n')\n",
    "explore_data(ios_data, 0, 4, True)"
   ]
  },
  {
   "cell_type": "markdown",
   "metadata": {},
   "source": [
    "We can see that there are 7197 apps in the ios dataset and 16 different columns. Of the columns, Size, Price, User Ratings, Content Rating, and Prime Genre looks like they will be useful for our analysis. A description of the ios columns can be found in the the columns section of this [link](https://www.kaggle.com/ramamet4/app-store-apple-data-set-10k-apps).\n",
    "\n",
    "Next, lets explore the android apps."
   ]
  },
  {
   "cell_type": "code",
   "execution_count": 4,
   "metadata": {
    "collapsed": false
   },
   "outputs": [
    {
     "name": "stdout",
     "output_type": "stream",
     "text": [
      "['App', 'Category', 'Rating', 'Reviews', 'Size', 'Installs', 'Type', 'Price', 'Content Rating', 'Genres', 'Last Updated', 'Current Ver', 'Android Ver']\n",
      "\n",
      "\n",
      "['Photo Editor & Candy Camera & Grid & ScrapBook', 'ART_AND_DESIGN', '4.1', '159', '19M', '10,000+', 'Free', '0', 'Everyone', 'Art & Design', 'January 7, 2018', '1.0.0', '4.0.3 and up']\n",
      "\n",
      "\n",
      "['Coloring book moana', 'ART_AND_DESIGN', '3.9', '967', '14M', '500,000+', 'Free', '0', 'Everyone', 'Art & Design;Pretend Play', 'January 15, 2018', '2.0.0', '4.0.3 and up']\n",
      "\n",
      "\n",
      "['U Launcher Lite – FREE Live Cool Themes, Hide Apps', 'ART_AND_DESIGN', '4.7', '87510', '8.7M', '5,000,000+', 'Free', '0', 'Everyone', 'Art & Design', 'August 1, 2018', '1.2.4', '4.0.3 and up']\n",
      "\n",
      "\n",
      "['Sketch - Draw & Paint', 'ART_AND_DESIGN', '4.5', '215644', '25M', '50,000,000+', 'Free', '0', 'Teen', 'Art & Design', 'June 8, 2018', 'Varies with device', '4.2 and up']\n",
      "\n",
      "\n",
      "Number of rows: 10841\n",
      "Number of columns: 13\n"
     ]
    }
   ],
   "source": [
    "#exploring andoid apps\n",
    "print(android_header)\n",
    "print('\\n')\n",
    "explore_data(android_data, 0, 4, True)"
   ]
  },
  {
   "cell_type": "markdown",
   "metadata": {},
   "source": [
    "The android dataset contains 10,841 apps and 13 different columns. At first glance, Category, Rating, Reviews, Size, Installs, Price, Content Ratings, and Genres will be useful in our analysis. A description of the columns can be found in the columns section of this [link](https://www.kaggle.com/lava18/google-play-store-apps)."
   ]
  },
  {
   "cell_type": "markdown",
   "metadata": {},
   "source": [
    "# Data Cleaning\n",
    "\n",
    "Now that we have a sense of the data we're working with we need to clean it. Without cleaning, the results of our analysis will be wrong. Data Cleaning involves:\n",
    "\n",
    "- Removing or correction wrong data\n",
    "- Removing duplicate data\n",
    "- And modifying the data to fit the purpose of our analysis\n",
    "\n",
    "## Incorrect Data\n",
    "\n",
    "Some datasets have a discussion section. We can start there to see if anyone else has found an error in the data. For the andoid data [one discussion](https://www.kaggle.com/lava18/google-play-store-apps/discussion/66015) describes missing data in row or index 10472. Let's verify it.\n",
    "\n",
    "### Incorrect Data - android"
   ]
  },
  {
   "cell_type": "code",
   "execution_count": 5,
   "metadata": {
    "collapsed": false
   },
   "outputs": [
    {
     "name": "stdout",
     "output_type": "stream",
     "text": [
      "['Life Made WI-Fi Touchscreen Photo Frame', '1.9', '19', '3.0M', '1,000+', 'Free', '0', 'Everyone', '', 'February 11, 2018', '1.0.19', '4.0 and up']\n",
      "\n",
      "\n",
      "row length:  12\n",
      "\n",
      "\n",
      "header length:  13\n"
     ]
    }
   ],
   "source": [
    "x = 10472\n",
    "print(android_data[x])\n",
    "print('\\n')\n",
    "print('row length: ',len(android_data[x]))\n",
    "print('\\n')\n",
    "print('header length: ',len(android_header))"
   ]
  },
  {
   "cell_type": "markdown",
   "metadata": {},
   "source": [
    "We can see that index 10472 (row 10473) is missing 1 piece of data in comparison by comparing the length to the length of the header.\n",
    "\n",
    "Using that same logic, let's check the whole dataset for rows with lengths not equal to the length of the header."
   ]
  },
  {
   "cell_type": "code",
   "execution_count": 6,
   "metadata": {
    "collapsed": false
   },
   "outputs": [
    {
     "name": "stdout",
     "output_type": "stream",
     "text": [
      "Header Length:  13\n",
      "\n",
      "\n",
      "Index #:  10472\n",
      "Row Length:  12\n",
      "['Life Made WI-Fi Touchscreen Photo Frame', '1.9', '19', '3.0M', '1,000+', 'Free', '0', 'Everyone', '', 'February 11, 2018', '1.0.19', '4.0 and up']\n",
      "\n",
      "\n"
     ]
    }
   ],
   "source": [
    "counter = -1\n",
    "print('Header Length: ',len(android_header))\n",
    "print('\\n')\n",
    "\n",
    "for row in android_data:\n",
    "    counter += 1\n",
    "    if len(android_header) != len(row):\n",
    "        print('Index #: ', counter)\n",
    "        print('Row Length: ',len(row))\n",
    "        print(row)\n",
    "        print('\\n')"
   ]
  },
  {
   "cell_type": "markdown",
   "metadata": {
    "collapsed": true
   },
   "source": [
    "We've verfied that the the only row missing data in the android dataset is index 10472. Let's delete it from our dataset using the del function. We need to make sure we don't run this statement more than once, otherwise we'll delete more than one row."
   ]
  },
  {
   "cell_type": "code",
   "execution_count": 7,
   "metadata": {
    "collapsed": true
   },
   "outputs": [],
   "source": [
    "# deleting row in android dataset with missing data\n",
    "del android_data[10472]"
   ]
  },
  {
   "cell_type": "markdown",
   "metadata": {},
   "source": [
    "Let's run our check again to see if we have missing data."
   ]
  },
  {
   "cell_type": "code",
   "execution_count": 8,
   "metadata": {
    "collapsed": false
   },
   "outputs": [
    {
     "name": "stdout",
     "output_type": "stream",
     "text": [
      "Header Length:  13\n",
      "\n",
      "\n"
     ]
    }
   ],
   "source": [
    "counter = -1\n",
    "print('Header Length: ',len(android_header))\n",
    "print('\\n')\n",
    "\n",
    "for row in android_data:\n",
    "    counter += 1\n",
    "    if len(android_header) != len(row):\n",
    "        print('Index #: ', counter)\n",
    "        print('Row Length: ',len(row))\n",
    "        print(row)\n",
    "        print('\\n')"
   ]
  },
  {
   "cell_type": "markdown",
   "metadata": {},
   "source": [
    "Nothing show's up, this means that we've successfully removed the row with missing data. Let's do the same with the ios dataset.\n",
    "\n",
    "### Incorrect Data - ios"
   ]
  },
  {
   "cell_type": "code",
   "execution_count": 9,
   "metadata": {
    "collapsed": false
   },
   "outputs": [
    {
     "name": "stdout",
     "output_type": "stream",
     "text": [
      "Header Length:  16\n",
      "\n",
      "\n"
     ]
    }
   ],
   "source": [
    "counter = -1\n",
    "print('Header Length: ',len(ios_header))\n",
    "print('\\n')\n",
    "\n",
    "for row in ios_data:\n",
    "    counter += 1\n",
    "    if len(ios_header) != len(row):\n",
    "        print('Index #: ', counter)\n",
    "        print('Row Length: ',len(row))\n",
    "        print(row)\n",
    "        print('\\n')"
   ]
  },
  {
   "cell_type": "markdown",
   "metadata": {},
   "source": [
    "Looks like the ios dataset doesn't have any rows with missing or extra data. Let's move on to the next step.\n",
    "\n",
    "## Duplicate Data\n",
    "\n",
    "The discussions in the ios dataset mention a possibility of duplicate data. We'll explore both the ios and android datasets to identify and remove any duplicates.\n",
    "\n",
    "To identify duplicates, we'll loop through the name column of each dataset and separate the unique and duplicate apps into their own lists. Let's start with the ios dataset.\n",
    "\n",
    "### Duplicate Data - ios"
   ]
  },
  {
   "cell_type": "code",
   "execution_count": 10,
   "metadata": {
    "collapsed": false
   },
   "outputs": [
    {
     "data": {
      "text/plain": [
       "['Mannequin Challenge', 'VR Roller Coaster']"
      ]
     },
     "execution_count": 10,
     "metadata": {},
     "output_type": "execute_result"
    }
   ],
   "source": [
    "unique_apps = []\n",
    "duplicate_apps = []\n",
    "\n",
    "for row in ios_data:\n",
    "    name = row[1]\n",
    "    if name in unique_apps:\n",
    "        duplicate_apps.append(name)\n",
    "    else:\n",
    "        unique_apps.append(name)\n",
    "\n",
    "duplicate_apps"
   ]
  },
  {
   "cell_type": "markdown",
   "metadata": {},
   "source": [
    "We can see that `Mannequin Challenge` and `VR Roller Coaster` have duplicates. Let's show the rows that have these names."
   ]
  },
  {
   "cell_type": "code",
   "execution_count": 11,
   "metadata": {
    "collapsed": false
   },
   "outputs": [
    {
     "name": "stdout",
     "output_type": "stream",
     "text": [
      "['1173990889', 'Mannequin Challenge', '109705216', 'USD', '0.0', '668', '87', '3.0', '3.0', '1.4', '9+', 'Games', '37', '4', '1', '1']\n",
      "['952877179', 'VR Roller Coaster', '169523200', 'USD', '0.0', '107', '102', '3.5', '3.5', '2.0.0', '4+', 'Games', '37', '5', '1', '1']\n",
      "['1178454060', 'Mannequin Challenge', '59572224', 'USD', '0.0', '105', '58', '4.0', '4.5', '1.0.1', '4+', 'Games', '38', '5', '1', '1']\n",
      "['1089824278', 'VR Roller Coaster', '240964608', 'USD', '0.0', '67', '44', '3.5', '4.0', '0.81', '4+', 'Games', '38', '0', '1', '1']\n"
     ]
    }
   ],
   "source": [
    "for row in ios_data:\n",
    "    name = row[1]\n",
    "    if name == 'Mannequin Challenge' or name == 'VR Roller Coaster':\n",
    "        print(row)"
   ]
  },
  {
   "cell_type": "markdown",
   "metadata": {},
   "source": [
    "It looks like we only have two duplicates in the ios dataset but let's verify by using the `len()` function on `duplicate_apps`."
   ]
  },
  {
   "cell_type": "code",
   "execution_count": 12,
   "metadata": {
    "collapsed": false
   },
   "outputs": [
    {
     "name": "stdout",
     "output_type": "stream",
     "text": [
      "2\n"
     ]
    }
   ],
   "source": [
    "print(len(duplicate_apps))"
   ]
  },
  {
   "cell_type": "markdown",
   "metadata": {},
   "source": [
    "We'll need to remove these duplicates and come up with a criteria to determine which one to remove. For now, let's run through the same exercise with the android dataset.\n",
    "\n",
    "### Duplicate Data - android"
   ]
  },
  {
   "cell_type": "code",
   "execution_count": 13,
   "metadata": {
    "collapsed": false
   },
   "outputs": [
    {
     "name": "stdout",
     "output_type": "stream",
     "text": [
      "duplicates: 1181\n",
      "uniques: 9659\n"
     ]
    }
   ],
   "source": [
    "unique_apps = []\n",
    "duplicate_apps = []\n",
    "\n",
    "for row in android_data:\n",
    "    name = row[0]\n",
    "    if name in unique_apps:\n",
    "        duplicate_apps.append(name)\n",
    "    else:\n",
    "        unique_apps.append(name)\n",
    "\n",
    "print('duplicates:',len(duplicate_apps))\n",
    "print('uniques:',len(unique_apps))"
   ]
  },
  {
   "cell_type": "markdown",
   "metadata": {},
   "source": [
    "We can see that the android dataset has a significantly higher count of duplicates than ios. Let's get to correcting these!\n",
    "\n",
    "### Deleting Duplicates - android\n",
    "\n",
    "For duplicates, were only going to keep the row with the highest number of reviews because it is a good proxy for being the most recent entry.\n",
    "\n",
    "We'll loop through the data and create a dictionary of the app names and the highest number of reviews for that app. If done correctly we should only have 9,659 rows."
   ]
  },
  {
   "cell_type": "code",
   "execution_count": 14,
   "metadata": {
    "collapsed": false
   },
   "outputs": [
    {
     "name": "stdout",
     "output_type": "stream",
     "text": [
      "9659\n"
     ]
    }
   ],
   "source": [
    "#create dictionary to store app names and the highest number of reviews\n",
    "reviews_max = {}\n",
    "\n",
    "for row in android_data:\n",
    "    name = row[0]\n",
    "    n_reviews = float(row[3])\n",
    "    if name in reviews_max and reviews_max[name] < n_reviews:\n",
    "        reviews_max[name] = n_reviews\n",
    "    elif name not in reviews_max:\n",
    "        reviews_max[name] = n_reviews\n",
    "\n",
    "print(len(reviews_max))"
   ]
  },
  {
   "cell_type": "markdown",
   "metadata": {},
   "source": [
    "In the next step, we'll loop through our dataset and keep the most recent entry for each app based on number of reviews. To do so we'll create a list to hold the data we want to capture and a list of apps already added accounted for. The second list helps exclude entering apps with multiple entries with the same highest number of reviews. We'll check to see if we have 9,659 rows again."
   ]
  },
  {
   "cell_type": "code",
   "execution_count": 15,
   "metadata": {
    "collapsed": false
   },
   "outputs": [
    {
     "name": "stdout",
     "output_type": "stream",
     "text": [
      "9659\n"
     ]
    }
   ],
   "source": [
    "#create two empty lists\n",
    "android_clean = []\n",
    "already_added = []\n",
    "\n",
    "for row in android_data:\n",
    "    name = row[0]\n",
    "    n_reviews = float(row[3])\n",
    "    if n_reviews == reviews_max[name] and name not in already_added:\n",
    "        android_clean.append(row)\n",
    "        already_added.append(name)\n",
    "        \n",
    "print(len(android_clean))"
   ]
  },
  {
   "cell_type": "markdown",
   "metadata": {},
   "source": [
    "Let's do the same for the ios apps.\n",
    "\n",
    "### Deleting Duplicates - ios\n",
    "\n",
    "Let's borrow our code from above and modify it for the ios dataset. There are a total 7,197 apps in our dataset and we expect to remove 2 duplicates meaning we should have 7,195 in our cleaned dataset."
   ]
  },
  {
   "cell_type": "code",
   "execution_count": 16,
   "metadata": {
    "collapsed": false
   },
   "outputs": [
    {
     "name": "stdout",
     "output_type": "stream",
     "text": [
      "7195\n"
     ]
    }
   ],
   "source": [
    "#create dictionary to store app names and the highest number of reviews\n",
    "reviews_max = {}\n",
    "\n",
    "for row in ios_data:\n",
    "    name = row[1]\n",
    "    n_reviews = float(row[5])\n",
    "    if name in reviews_max and reviews_max[name] < n_reviews:\n",
    "        reviews_max[name] = n_reviews\n",
    "    elif name not in reviews_max:\n",
    "        reviews_max[name] = n_reviews\n",
    "\n",
    "#create two empty lists\n",
    "ios_clean = []\n",
    "already_added = []\n",
    "\n",
    "for row in ios_data:\n",
    "    name = row[1]\n",
    "    n_reviews = float(row[5])\n",
    "    if n_reviews == reviews_max[name] and name not in already_added:\n",
    "        ios_clean.append(row)\n",
    "        already_added.append(name)\n",
    "        \n",
    "print(len(ios_clean))"
   ]
  },
  {
   "cell_type": "markdown",
   "metadata": {
    "collapsed": true
   },
   "source": [
    "After cleaning the data of incorrect and duplicate entries, we want to modify the dataset for our analysis. We want to analyze data that will help us build apps for an english speaking audience. Our dataset may contain apps that our catered towards non-english speaking audiences. Let's identify and remove those from out dataset.\n",
    "\n",
    "## Modifying Dataset - English-speaking Apps\n",
    "\n",
    "### Modifying Dataset - English-speaking - android\n",
    "\n",
    "Each character has a corresponding code that can be identified using the built-in `ord()` function. Characters that are typically used in English text fall in the range of 0-127 according to the  [ASCII](https://en.wikipedia.org/wiki/ASCII) (American Standard Code for Information Interchange) system. \n",
    "\n",
    "Let's create a function that can identify apps with non-english names. We'll start with a function that can identify non-english characters within a string and then nest it in a function that loops through apps in a given dataset."
   ]
  },
  {
   "cell_type": "code",
   "execution_count": 17,
   "metadata": {
    "collapsed": false
   },
   "outputs": [
    {
     "name": "stdout",
     "output_type": "stream",
     "text": [
      "True\n",
      "False\n",
      "True\n",
      "True\n"
     ]
    }
   ],
   "source": [
    "# create function\n",
    "def eng_verify(string):\n",
    "    count = 0\n",
    "    for character in string:\n",
    "        if ord(character) > 127:\n",
    "            count += 1\n",
    "    if count > 3:\n",
    "        return False\n",
    "    else:\n",
    "        return True\n",
    "\n",
    "#test function\n",
    "print(eng_verify('Instagram'))\n",
    "print(eng_verify('爱奇艺PPS -《欢乐颂2》电视剧热播'))\n",
    "print(eng_verify('Docs To Go™ Free Office Suite'))\n",
    "print(eng_verify('Instachat 😜'))"
   ]
  },
  {
   "cell_type": "markdown",
   "metadata": {},
   "source": [
    "In the function above, check the characters of a the string to see if they fall within our desired code range if 0-127. Some english-speaking apps use emojis and special characters fall outside of that range, so ww will make an exception for apps that have 3 or less characters that fall outside the range. This isn't perfect but it's more effective.\n",
    "\n",
    "Now let's nest this function within a loop to organize our android dataset into 2 lists: english apps and non-english apps."
   ]
  },
  {
   "cell_type": "code",
   "execution_count": 18,
   "metadata": {
    "collapsed": false
   },
   "outputs": [
    {
     "name": "stdout",
     "output_type": "stream",
     "text": [
      "['Photo Editor & Candy Camera & Grid & ScrapBook', 'ART_AND_DESIGN', '4.1', '159', '19M', '10,000+', 'Free', '0', 'Everyone', 'Art & Design', 'January 7, 2018', '1.0.0', '4.0.3 and up']\n",
      "\n",
      "\n",
      "['U Launcher Lite – FREE Live Cool Themes, Hide Apps', 'ART_AND_DESIGN', '4.7', '87510', '8.7M', '5,000,000+', 'Free', '0', 'Everyone', 'Art & Design', 'August 1, 2018', '1.2.4', '4.0.3 and up']\n",
      "\n",
      "\n",
      "['Sketch - Draw & Paint', 'ART_AND_DESIGN', '4.5', '215644', '25M', '50,000,000+', 'Free', '0', 'Teen', 'Art & Design', 'June 8, 2018', 'Varies with device', '4.2 and up']\n",
      "\n",
      "\n",
      "Number of rows: 9614\n",
      "Number of columns: 13\n"
     ]
    }
   ],
   "source": [
    "#create 2 empty list, 1 to store desired data, 1 for data we dont want\n",
    "android_clean_eng = []\n",
    "android_clean_non = []\n",
    "\n",
    "for app in android_clean:\n",
    "    name = app[0]\n",
    "    if eng_verify(name):\n",
    "        android_clean_eng.append(app)\n",
    "    else:\n",
    "        android_clean_non.append(app)\n",
    "\n",
    "explore_data(android_clean_eng,0,3,True)"
   ]
  },
  {
   "cell_type": "markdown",
   "metadata": {},
   "source": [
    "In the android dataset we are left qith 9,614 apps after removing the non-english apps. Let's explore the non-english list to make sure that we filtered out the apps we wanted."
   ]
  },
  {
   "cell_type": "code",
   "execution_count": 19,
   "metadata": {
    "collapsed": false
   },
   "outputs": [
    {
     "name": "stdout",
     "output_type": "stream",
     "text": [
      "['Flame - درب عقلك يوميا', 'EDUCATION', '4.6', '56065', '37M', '1,000,000+', 'Free', '0', 'Everyone', 'Education', 'July 26, 2018', '3.3', '4.1 and up']\n",
      "\n",
      "\n",
      "['သိင်္ Astrology - Min Thein Kha BayDin', 'LIFESTYLE', '4.7', '2225', '15M', '100,000+', 'Free', '0', 'Everyone', 'Lifestyle', 'July 26, 2018', '4.2.1', '4.0.3 and up']\n",
      "\n",
      "\n",
      "['РИА Новости', 'NEWS_AND_MAGAZINES', '4.5', '44274', '8.0M', '1,000,000+', 'Free', '0', 'Everyone', 'News & Magazines', 'August 6, 2018', '4.0.6', '4.4 and up']\n",
      "\n",
      "\n",
      "Number of rows: 45\n",
      "Number of columns: 13\n"
     ]
    }
   ],
   "source": [
    "explore_data(android_clean_non,0,3,True)"
   ]
  },
  {
   "cell_type": "markdown",
   "metadata": {},
   "source": [
    "From the examples above we can see that the names of the apps we filtered out have more than 3 non-english characters. This is what we intended, so we can now move on to the ios dataset.\n",
    "\n",
    "### Modifying Dataset - English-speaking - ios\n",
    "\n",
    "Lets run the same loop and function on the ios and see what we get."
   ]
  },
  {
   "cell_type": "code",
   "execution_count": 20,
   "metadata": {
    "collapsed": false
   },
   "outputs": [
    {
     "name": "stdout",
     "output_type": "stream",
     "text": [
      "['284882215', 'Facebook', '389879808', 'USD', '0.0', '2974676', '212', '3.5', '3.5', '95.0', '4+', 'Social Networking', '37', '1', '29', '1']\n",
      "\n",
      "\n",
      "['389801252', 'Instagram', '113954816', 'USD', '0.0', '2161558', '1289', '4.5', '4.0', '10.23', '12+', 'Photo & Video', '37', '0', '29', '1']\n",
      "\n",
      "\n",
      "['529479190', 'Clash of Clans', '116476928', 'USD', '0.0', '2130805', '579', '4.5', '4.5', '9.24.12', '9+', 'Games', '38', '5', '18', '1']\n",
      "\n",
      "\n",
      "Number of rows: 6181\n",
      "Number of columns: 16\n"
     ]
    }
   ],
   "source": [
    "ios_clean_eng = []\n",
    "ios_clean_non = []\n",
    "\n",
    "for app in ios_clean:\n",
    "    name = app[1]\n",
    "    if eng_verify(name):\n",
    "        ios_clean_eng.append(app)\n",
    "    else:\n",
    "        ios_clean_non.append(app)\n",
    "\n",
    "explore_data(ios_clean_eng,0,3,True)"
   ]
  },
  {
   "cell_type": "markdown",
   "metadata": {},
   "source": [
    "Prior to this step, the ios dataset had 7,195 apps. After cleaning for non-english apps we are left with 6,181 apps. Let's check the non-english ios apps to be thorough."
   ]
  },
  {
   "cell_type": "code",
   "execution_count": 21,
   "metadata": {
    "collapsed": false
   },
   "outputs": [
    {
     "name": "stdout",
     "output_type": "stream",
     "text": [
      "['445375097', '爱奇艺PPS -《欢乐颂2》电视剧热播', '224617472', 'USD', '0.0', '14844', '0', '4.0', '0.0', '6.3.3', '17+', 'Entertainment', '38', '5', '3', '1']\n",
      "\n",
      "\n",
      "['405667771', '聚力视频HD-人民的名义,跨界歌王全网热播', '90725376', 'USD', '0.0', '7446', '8', '4.0', '4.5', '5.0.8', '12+', 'Entertainment', '24', '4', '1', '1']\n",
      "\n",
      "\n",
      "['336141475', '优酷视频', '204959744', 'USD', '0.0', '4885', '0', '3.5', '0.0', '6.7.0', '12+', 'Entertainment', '38', '0', '2', '1']\n",
      "\n",
      "\n",
      "Number of rows: 1014\n",
      "Number of columns: 16\n"
     ]
    }
   ],
   "source": [
    "explore_data(ios_clean_non,0,3,True)"
   ]
  },
  {
   "cell_type": "markdown",
   "metadata": {},
   "source": [
    "It looks like code above did what we wanted, so let's continue to the next step of modifying our dataset.\n",
    "\n",
    "## Modifying Dataset - Free Apps\n",
    "\n",
    "In the intro we mentioned the goal of the project was to analyze apps that are free to download. Our final cleaning step will be to isolate only the free apps for our analysis.\n",
    "\n",
    "### Modifying Dataset - Free Apps - Android\n",
    "\n",
    "There are two columns that we can use to determine which apps are free. The `Type` and `Price` columns have information that can help us determine whether or not apps are free. We will only include apps that both have a 'Free' type and Price of 0.0 in our `android_free` dataset."
   ]
  },
  {
   "cell_type": "code",
   "execution_count": 22,
   "metadata": {
    "collapsed": false
   },
   "outputs": [
    {
     "name": "stdout",
     "output_type": "stream",
     "text": [
      "['Photo Editor & Candy Camera & Grid & ScrapBook', 'ART_AND_DESIGN', '4.1', '159', '19M', '10,000+', 'Free', '0', 'Everyone', 'Art & Design', 'January 7, 2018', '1.0.0', '4.0.3 and up']\n",
      "\n",
      "\n",
      "['U Launcher Lite – FREE Live Cool Themes, Hide Apps', 'ART_AND_DESIGN', '4.7', '87510', '8.7M', '5,000,000+', 'Free', '0', 'Everyone', 'Art & Design', 'August 1, 2018', '1.2.4', '4.0.3 and up']\n",
      "\n",
      "\n",
      "Number of rows: 8863\n",
      "Number of columns: 13\n"
     ]
    }
   ],
   "source": [
    "# create our empty lists\n",
    "android_free = []\n",
    "android_nonfree = []\n",
    "\n",
    "# loop through dataset and isolate free apps based on type and price\n",
    "for app in android_clean_eng:\n",
    "    pay_type = app[6]\n",
    "    if pay_type == 'Free':\n",
    "        price = float(app[7])\n",
    "        if price == 0.0:\n",
    "            android_free.append(app)\n",
    "    else:\n",
    "        android_nonfree.append(app)\n",
    "\n",
    "# explore lists\n",
    "explore_data(android_free,0,2,True)\n"
   ]
  },
  {
   "cell_type": "markdown",
   "metadata": {},
   "source": [
    "After isolating apps with both a 'Free' `Type` and 0.0 for `Price`, we're left with 8,863 apps. Now let's move on to isolating the free apps in the ios dataset.\n",
    "\n",
    "### Modifying Dataset - Free Apps - ios\n",
    "\n",
    "In our ios dataset we only have the price column to indentify free vs. non-free apps."
   ]
  },
  {
   "cell_type": "code",
   "execution_count": 23,
   "metadata": {
    "collapsed": false,
    "scrolled": false
   },
   "outputs": [
    {
     "name": "stdout",
     "output_type": "stream",
     "text": [
      "['284882215', 'Facebook', '389879808', 'USD', '0.0', '2974676', '212', '3.5', '3.5', '95.0', '4+', 'Social Networking', '37', '1', '29', '1']\n",
      "\n",
      "\n",
      "['389801252', 'Instagram', '113954816', 'USD', '0.0', '2161558', '1289', '4.5', '4.0', '10.23', '12+', 'Photo & Video', '37', '0', '29', '1']\n",
      "\n",
      "\n",
      "Number of rows: 3220\n",
      "Number of columns: 16\n"
     ]
    }
   ],
   "source": [
    "#create our lists\n",
    "ios_free = []\n",
    "ios_nonfree = []\n",
    "\n",
    "for app in ios_clean_eng:\n",
    "    price = float(app[4])\n",
    "    if price == 0.0:\n",
    "        ios_free.append(app)\n",
    "    else:\n",
    "        ios_nonfree.append(app)\n",
    "        \n",
    "explore_data(ios_free,0,2,True)"
   ]
  },
  {
   "cell_type": "markdown",
   "metadata": {},
   "source": [
    "After isolating apps with a `price` of 0.0 we are left with 3,220 free apps in the ios dataset. \n",
    "\n",
    "To summarize, these are the following size of our datasets we'll use to analyze for our project.\n",
    "\n",
    "| Dataset | Apps |\n",
    "| --- | --- |\n",
    "| android | 8,863 |\n",
    "| ios | 3,220 |"
   ]
  },
  {
   "cell_type": "markdown",
   "metadata": {
    "collapsed": false
   },
   "source": [
    "As a final step in our data cleaning, we'll assign the datasets a final dataset variable for the sake of auditability."
   ]
  },
  {
   "cell_type": "code",
   "execution_count": 24,
   "metadata": {
    "collapsed": true
   },
   "outputs": [],
   "source": [
    "ios_final = ios_free\n",
    "android_final = android_free"
   ]
  },
  {
   "cell_type": "markdown",
   "metadata": {
    "collapsed": true
   },
   "source": [
    "# Analysis\n",
    "\n",
    "Our aim is to determine the kinds of apps that are likely to attract more users because our revenue is highly influenced by the number of people using our apps.\n",
    "\n",
    "To minimize risks and overhead, our validation strategy for an app idea is comprised of three steps:\n",
    "\n",
    "1. Build a minimal Android version of the app, and add it to Google Play.\n",
    "2. If the app has a good response from users, we develop it further.\n",
    "3. If the app is profitable after six months, we build an iOS version of the app and add it to the App Store.\n",
    "\n",
    "Because our end goal is to add the app on both Google Play and the App Store, we need to find app profiles that are successful on both markets.\n",
    "\n",
    "Let's start by exploring our data again to see what columns will be useful in this portion of our analysis.\n",
    "\n",
    "## Exploration"
   ]
  },
  {
   "cell_type": "code",
   "execution_count": 25,
   "metadata": {
    "collapsed": false
   },
   "outputs": [
    {
     "name": "stdout",
     "output_type": "stream",
     "text": [
      "['id', 'track_name', 'size_bytes', 'currency', 'price', 'rating_count_tot', 'rating_count_ver', 'user_rating', 'user_rating_ver', 'ver', 'cont_rating', 'prime_genre', 'sup_devices.num', 'ipadSc_urls.num', 'lang.num', 'vpp_lic']\n",
      "[['284882215', 'Facebook', '389879808', 'USD', '0.0', '2974676', '212', '3.5', '3.5', '95.0', '4+', 'Social Networking', '37', '1', '29', '1']]\n",
      "\n",
      "\n",
      "['App', 'Category', 'Rating', 'Reviews', 'Size', 'Installs', 'Type', 'Price', 'Content Rating', 'Genres', 'Last Updated', 'Current Ver', 'Android Ver']\n",
      "[['Photo Editor & Candy Camera & Grid & ScrapBook', 'ART_AND_DESIGN', '4.1', '159', '19M', '10,000+', 'Free', '0', 'Everyone', 'Art & Design', 'January 7, 2018', '1.0.0', '4.0.3 and up']]\n"
     ]
    }
   ],
   "source": [
    "print(ios_header)\n",
    "print(ios_final[:1])\n",
    "\n",
    "print('\\n')\n",
    "\n",
    "print(android_header)\n",
    "print(android_final[:1])"
   ]
  },
  {
   "cell_type": "markdown",
   "metadata": {},
   "source": [
    "From the ios dataset, `prime_genre` (index 11) will be useful and in the android dataset we can use both `Category` and `Genres`. Our next step will be to create dictionaries and determine the percentages of the genres for each dataset.\n",
    "\n",
    "## Analysis Functions"
   ]
  },
  {
   "cell_type": "code",
   "execution_count": 26,
   "metadata": {
    "collapsed": true
   },
   "outputs": [],
   "source": [
    "# create a function to create a frequency table\n",
    "def freq_table(dataset, index):\n",
    "    groups = {}\n",
    "    total_apps = 0\n",
    "    check = 0\n",
    "    for app in dataset:\n",
    "        datapoint = app[index]\n",
    "        total_apps += 1\n",
    "        if datapoint in groups:\n",
    "            groups[datapoint] += 1\n",
    "        else:\n",
    "            groups[datapoint] = 1\n",
    "            \n",
    "    for group in groups:\n",
    "        # turn into % decimal format\n",
    "        groups[group] /= total_apps\n",
    "        # turn into % percentage format\n",
    "        groups[group] *= 100\n",
    "    return groups"
   ]
  },
  {
   "cell_type": "markdown",
   "metadata": {},
   "source": [
    "Let's check our function to make sure it works the way we expect it to. We'll need to verify that the percentages sum to 100%."
   ]
  },
  {
   "cell_type": "code",
   "execution_count": 27,
   "metadata": {
    "collapsed": false
   },
   "outputs": [
    {
     "name": "stdout",
     "output_type": "stream",
     "text": [
      "99.99999999999999\n",
      "\n",
      "\n",
      "100.00000000000003\n",
      "\n",
      "\n",
      "100.0000000000001\n",
      "\n",
      "\n"
     ]
    }
   ],
   "source": [
    "ios_prime_genre = freq_table(ios_final, 11)\n",
    "android_category = freq_table(android_final, 1)\n",
    "android_genres = freq_table(android_final, 9)\n",
    "\n",
    "\n",
    "def check_percentage(table):\n",
    "    table_check = 0\n",
    "    for row in table:\n",
    "        table_check += table[row]\n",
    "    print(table_check)\n",
    "    print('\\n')\n",
    "\n",
    "check_percentage(ios_prime_genre)\n",
    "check_percentage(android_category)\n",
    "check_percentage(android_genres)"
   ]
  },
  {
   "cell_type": "markdown",
   "metadata": {},
   "source": [
    "The sum of all the percentages add up to 100% disregarding minor calculation limitations. This function is good to go. The next step is to display it in an order that makes sense. We'll insert our `freq_table` function inside our new `display_table` function to sort our data in descending order."
   ]
  },
  {
   "cell_type": "code",
   "execution_count": 28,
   "metadata": {
    "collapsed": true
   },
   "outputs": [],
   "source": [
    "def display_table(dataset, index):\n",
    "    table = freq_table(dataset, index)\n",
    "    table_display = []\n",
    "    for key in table:\n",
    "        key_val_as_tuple = (table[key], key)\n",
    "        table_display.append(key_val_as_tuple)\n",
    "\n",
    "    table_sorted = sorted(table_display, reverse = True)\n",
    "    for entry in table_sorted:\n",
    "        print(entry[1], ':', entry[0])"
   ]
  },
  {
   "cell_type": "markdown",
   "metadata": {},
   "source": [
    "Let's plug our dataset into the new function to generate our sorted tables. We'll start by analyzing the free english apps from the app store.\n",
    "\n",
    "## Analysis - % of IOS genres"
   ]
  },
  {
   "cell_type": "code",
   "execution_count": 29,
   "metadata": {
    "collapsed": false
   },
   "outputs": [
    {
     "name": "stdout",
     "output_type": "stream",
     "text": [
      "Games : 58.13664596273293\n",
      "Entertainment : 7.888198757763975\n",
      "Photo & Video : 4.968944099378882\n",
      "Education : 3.6645962732919255\n",
      "Social Networking : 3.291925465838509\n",
      "Shopping : 2.608695652173913\n",
      "Utilities : 2.515527950310559\n",
      "Sports : 2.142857142857143\n",
      "Music : 2.049689440993789\n",
      "Health & Fitness : 2.018633540372671\n",
      "Productivity : 1.7391304347826086\n",
      "Lifestyle : 1.5838509316770186\n",
      "News : 1.3354037267080745\n",
      "Travel : 1.2422360248447204\n",
      "Finance : 1.1180124223602486\n",
      "Weather : 0.8695652173913043\n",
      "Food & Drink : 0.8074534161490683\n",
      "Reference : 0.5590062111801243\n",
      "Business : 0.5279503105590062\n",
      "Book : 0.43478260869565216\n",
      "Navigation : 0.18633540372670807\n",
      "Medical : 0.18633540372670807\n",
      "Catalogs : 0.12422360248447205\n"
     ]
    }
   ],
   "source": [
    "ios_prime_genre_sorted = display_table(ios_final, 11)"
   ]
  },
  {
   "cell_type": "markdown",
   "metadata": {},
   "source": [
    "The most common genre of apps on the App Store is Games followed by Entertainment. Most of the free english apps on the App Store seem to be catered for leisure use (games, photo and video, social networking, sports, music).\n",
    "\n",
    "Although games are the most popular genre of apps, this doesn't necessarily mean they will have the most number of users. There are some assumptions we would need to make if we wanted to reach that conclusion. For now, let's move on and analyze the android `Category` and `Genres` data.\n",
    "\n",
    "## Analysis - % of Android Cateegories and Genres\n",
    "\n",
    "### Category"
   ]
  },
  {
   "cell_type": "code",
   "execution_count": 30,
   "metadata": {
    "collapsed": false,
    "scrolled": true
   },
   "outputs": [
    {
     "name": "stdout",
     "output_type": "stream",
     "text": [
      "FAMILY : 18.898792733837304\n",
      "GAME : 9.725826469592688\n",
      "TOOLS : 8.462146000225657\n",
      "BUSINESS : 4.592124562789123\n",
      "LIFESTYLE : 3.9038700214374367\n",
      "PRODUCTIVITY : 3.8925871601038025\n",
      "FINANCE : 3.7007785174320205\n",
      "MEDICAL : 3.5315355974275078\n",
      "SPORTS : 3.396141261423897\n",
      "PERSONALIZATION : 3.317161232088458\n",
      "COMMUNICATION : 3.2381812027530184\n",
      "HEALTH_AND_FITNESS : 3.0802211440821394\n",
      "PHOTOGRAPHY : 2.944826808078529\n",
      "NEWS_AND_MAGAZINES : 2.798149610741284\n",
      "SOCIAL : 2.6627552747376737\n",
      "TRAVEL_AND_LOCAL : 2.335552296062281\n",
      "SHOPPING : 2.245289405393208\n",
      "BOOKS_AND_REFERENCE : 2.1437436533904997\n",
      "DATING : 1.8616721200496444\n",
      "VIDEO_PLAYERS : 1.7939749520478394\n",
      "MAPS_AND_NAVIGATION : 1.399074805370642\n",
      "FOOD_AND_DRINK : 1.241114746699763\n",
      "EDUCATION : 1.1621347173643235\n",
      "ENTERTAINMENT : 0.9590432133589079\n",
      "LIBRARIES_AND_DEMO : 0.9364774906916393\n",
      "AUTO_AND_VEHICLES : 0.9251946293580051\n",
      "HOUSE_AND_HOME : 0.8236488773552973\n",
      "WEATHER : 0.8010831546880289\n",
      "EVENTS : 0.7108202640189552\n",
      "PARENTING : 0.6544059573507841\n",
      "ART_AND_DESIGN : 0.6431230960171499\n",
      "COMICS : 0.6205573733498815\n",
      "BEAUTY : 0.5979916506826132\n"
     ]
    }
   ],
   "source": [
    "android_category_sorted = display_table(android_final, 1)"
   ]
  },
  {
   "cell_type": "markdown",
   "metadata": {},
   "source": [
    "### Genres"
   ]
  },
  {
   "cell_type": "code",
   "execution_count": 31,
   "metadata": {
    "collapsed": false
   },
   "outputs": [
    {
     "name": "stdout",
     "output_type": "stream",
     "text": [
      "Tools : 8.450863138892023\n",
      "Entertainment : 6.070179397495204\n",
      "Education : 5.348076272142616\n",
      "Business : 4.592124562789123\n",
      "Productivity : 3.8925871601038025\n",
      "Lifestyle : 3.8925871601038025\n",
      "Finance : 3.7007785174320205\n",
      "Medical : 3.5315355974275078\n",
      "Sports : 3.463838429425702\n",
      "Personalization : 3.317161232088458\n",
      "Communication : 3.2381812027530184\n",
      "Action : 3.102786866749408\n",
      "Health & Fitness : 3.0802211440821394\n",
      "Photography : 2.944826808078529\n",
      "News & Magazines : 2.798149610741284\n",
      "Social : 2.6627552747376737\n",
      "Travel & Local : 2.324269434728647\n",
      "Shopping : 2.245289405393208\n",
      "Books & Reference : 2.1437436533904997\n",
      "Simulation : 2.042197901387792\n",
      "Dating : 1.8616721200496444\n",
      "Arcade : 1.8503892587160102\n",
      "Video Players & Editors : 1.771409229380571\n",
      "Casual : 1.7601263680469368\n",
      "Maps & Navigation : 1.399074805370642\n",
      "Food & Drink : 1.241114746699763\n",
      "Puzzle : 1.128286133363421\n",
      "Racing : 0.9928917973598104\n",
      "Role Playing : 0.9364774906916393\n",
      "Libraries & Demo : 0.9364774906916393\n",
      "Auto & Vehicles : 0.9251946293580051\n",
      "Strategy : 0.9026289066907368\n",
      "House & Home : 0.8236488773552973\n",
      "Weather : 0.8010831546880289\n",
      "Events : 0.7108202640189552\n",
      "Adventure : 0.6769716800180525\n",
      "Comics : 0.6092745120162473\n",
      "Beauty : 0.5979916506826132\n",
      "Art & Design : 0.5979916506826132\n",
      "Parenting : 0.4964458986799052\n",
      "Card : 0.4513144533453684\n",
      "Casino : 0.42874873067809993\n",
      "Trivia : 0.4174658693444658\n",
      "Educational;Education : 0.3949001466771973\n",
      "Board : 0.38361728534356315\n",
      "Educational : 0.37233442400992894\n",
      "Education;Education : 0.33848584000902626\n",
      "Word : 0.25950581067358686\n",
      "Casual;Pretend Play : 0.2369400880063184\n",
      "Music : 0.20309150400541578\n",
      "Racing;Action & Adventure : 0.16924292000451313\n",
      "Puzzle;Brain Games : 0.16924292000451313\n",
      "Entertainment;Music & Video : 0.16924292000451313\n",
      "Casual;Brain Games : 0.1353943360036105\n",
      "Casual;Action & Adventure : 0.1353943360036105\n",
      "Arcade;Action & Adventure : 0.1241114746699763\n",
      "Action;Action & Adventure : 0.10154575200270789\n",
      "Educational;Pretend Play : 0.09026289066907367\n",
      "Simulation;Action & Adventure : 0.07898002933543948\n",
      "Parenting;Education : 0.07898002933543948\n",
      "Entertainment;Brain Games : 0.07898002933543948\n",
      "Board;Brain Games : 0.07898002933543948\n",
      "Parenting;Music & Video : 0.06769716800180525\n",
      "Educational;Brain Games : 0.06769716800180525\n",
      "Casual;Creativity : 0.06769716800180525\n",
      "Art & Design;Creativity : 0.06769716800180525\n",
      "Education;Pretend Play : 0.05641430666817105\n",
      "Role Playing;Pretend Play : 0.045131445334536835\n",
      "Education;Creativity : 0.045131445334536835\n",
      "Role Playing;Action & Adventure : 0.033848584000902626\n",
      "Puzzle;Action & Adventure : 0.033848584000902626\n",
      "Entertainment;Creativity : 0.033848584000902626\n",
      "Entertainment;Action & Adventure : 0.033848584000902626\n",
      "Educational;Creativity : 0.033848584000902626\n",
      "Educational;Action & Adventure : 0.033848584000902626\n",
      "Education;Music & Video : 0.033848584000902626\n",
      "Education;Brain Games : 0.033848584000902626\n",
      "Education;Action & Adventure : 0.033848584000902626\n",
      "Adventure;Action & Adventure : 0.033848584000902626\n",
      "Video Players & Editors;Music & Video : 0.022565722667268417\n",
      "Sports;Action & Adventure : 0.022565722667268417\n",
      "Simulation;Pretend Play : 0.022565722667268417\n",
      "Puzzle;Creativity : 0.022565722667268417\n",
      "Music;Music & Video : 0.022565722667268417\n",
      "Entertainment;Pretend Play : 0.022565722667268417\n",
      "Casual;Education : 0.022565722667268417\n",
      "Board;Action & Adventure : 0.022565722667268417\n",
      "Video Players & Editors;Creativity : 0.011282861333634209\n",
      "Trivia;Education : 0.011282861333634209\n",
      "Travel & Local;Action & Adventure : 0.011282861333634209\n",
      "Tools;Education : 0.011282861333634209\n",
      "Strategy;Education : 0.011282861333634209\n",
      "Strategy;Creativity : 0.011282861333634209\n",
      "Strategy;Action & Adventure : 0.011282861333634209\n",
      "Simulation;Education : 0.011282861333634209\n",
      "Role Playing;Brain Games : 0.011282861333634209\n",
      "Racing;Pretend Play : 0.011282861333634209\n",
      "Puzzle;Education : 0.011282861333634209\n",
      "Parenting;Brain Games : 0.011282861333634209\n",
      "Music & Audio;Music & Video : 0.011282861333634209\n",
      "Lifestyle;Pretend Play : 0.011282861333634209\n",
      "Lifestyle;Education : 0.011282861333634209\n",
      "Health & Fitness;Education : 0.011282861333634209\n",
      "Health & Fitness;Action & Adventure : 0.011282861333634209\n",
      "Entertainment;Education : 0.011282861333634209\n",
      "Communication;Creativity : 0.011282861333634209\n",
      "Comics;Creativity : 0.011282861333634209\n",
      "Casual;Music & Video : 0.011282861333634209\n",
      "Card;Action & Adventure : 0.011282861333634209\n",
      "Books & Reference;Education : 0.011282861333634209\n",
      "Art & Design;Pretend Play : 0.011282861333634209\n",
      "Art & Design;Action & Adventure : 0.011282861333634209\n",
      "Arcade;Pretend Play : 0.011282861333634209\n",
      "Adventure;Education : 0.011282861333634209\n"
     ]
    }
   ],
   "source": [
    "android_genre_sorted = display_table(android_final, 9)"
   ]
  },
  {
   "cell_type": "markdown",
   "metadata": {},
   "source": [
    "The frequency tables we analyzed above showed us that the App Store is dominated by apps designed for fun, while Google Play shows a more balanced landscape of both practical and fun apps. Now, we'd like to get an idea about the kind of apps with the most users.\n",
    "\n",
    "## Analysis - # of Users\n",
    "\n",
    "One way to find out what genres are the most popular (have the most users) is to calculate the average number of installs for each app genre. For the Google Play data set, we can find this information in the `Installs` column, but this information is missing for the App Store data set. As a workaround, we'll take the total number of user ratings as a proxy, which we can find in the `rating_count_tot` app.\n",
    "\n",
    "### # of Users - IOS"
   ]
  },
  {
   "cell_type": "code",
   "execution_count": 32,
   "metadata": {
    "collapsed": false,
    "scrolled": true
   },
   "outputs": [
    {
     "name": "stdout",
     "output_type": "stream",
     "text": [
      "Entertainment : 14029.830708661417\n",
      "Music : 57326.530303030304\n",
      "Medical : 612.0\n",
      "Health & Fitness : 23298.015384615384\n",
      "Sports : 23008.898550724636\n",
      "Catalogs : 4004.0\n",
      "Weather : 52279.892857142855\n",
      "Photo & Video : 28441.54375\n",
      "Games : 22812.92467948718\n",
      "Book : 39758.5\n",
      "Reference : 74942.11111111111\n",
      "Food & Drink : 33333.92307692308\n",
      "Navigation : 86090.33333333333\n",
      "Utilities : 18684.456790123455\n",
      "Social Networking : 71548.34905660378\n",
      "Business : 7491.117647058823\n",
      "Productivity : 21028.410714285714\n",
      "Education : 7003.983050847458\n",
      "News : 21248.023255813954\n",
      "Shopping : 26919.690476190477\n",
      "Lifestyle : 16485.764705882353\n",
      "Finance : 31467.944444444445\n",
      "Travel : 28243.8\n"
     ]
    }
   ],
   "source": [
    "# number of apps in a genre for avg calulation\n",
    "genres_ios = freq_table(ios_final, 11)\n",
    "        \n",
    "# loop through dataset to count numnbe\n",
    "for genre in genres_ios:\n",
    "    total = 0\n",
    "    len_genre = 0\n",
    "    for apps in ios_final:\n",
    "        genre_app = apps[11]\n",
    "        if genre_app == genre:\n",
    "            n_user_rating = float(apps[5])\n",
    "            total += n_user_rating\n",
    "            len_genre += 1\n",
    "    avg_n_users = total / len_genre\n",
    "    print(genre, \":\", avg_n_users)"
   ]
  },
  {
   "cell_type": "markdown",
   "metadata": {
    "collapsed": true
   },
   "source": [
    "From the results above, there are five genres that have more than 50,000 average users per app with Navigation leading with 86,090 avg users per app. I've added them below for easier viewing.\n",
    "\n",
    "| Genres | Avg Users |\n",
    "| --- | --- |\n",
    "| Navigation | 86,090 |\n",
    "| Reference | 74,942 |\n",
    "| Social Networking | 71,548 |\n",
    "| Music | 57,326 |\n",
    "| Weather | 52,279|\n",
    "\n",
    "From my initial inspection, I'd recommend building a **Weather** app because it seems less costly and requires less time to build. **Reference** may also be a good option but seems vague. Let's investigate both further.\n"
   ]
  },
  {
   "cell_type": "code",
   "execution_count": 33,
   "metadata": {
    "collapsed": false
   },
   "outputs": [
    {
     "data": {
      "text/plain": [
       "{'AccuWeather - Weather for Life': '144214',\n",
       " 'Almanac Long-Range Weather Forecast': '12',\n",
       " 'FEMA': '128',\n",
       " 'Forecast Bar': '375',\n",
       " \"Freddy the Frogcaster's Weather Station\": '14',\n",
       " 'Hurricane Tracker WESH 2 Orlando, Central Florida': '203',\n",
       " 'Hurricane by American Red Cross': '1158',\n",
       " 'JaxReady': '22',\n",
       " 'Moji Weather - Free Weather Forecast': '2333',\n",
       " 'MyRadar NOAA Weather Radar Forecast': '150158',\n",
       " 'Météo-France': '24',\n",
       " 'NOAA Weather Radar - Weather Forecast & HD Radar': '45696',\n",
       " 'QuakeFeed Earthquake Map, Alerts, and News': '6081',\n",
       " 'Storm Radar': '22792',\n",
       " 'The Weather Channel App for iPad – best local forecast, radar map, and storm tracking': '208648',\n",
       " 'The Weather Channel: Forecast, Radar & Alerts': '495626',\n",
       " 'TodayAir': '0',\n",
       " 'WRAL Weather Alert': '25',\n",
       " 'WarnWetter': '0',\n",
       " 'Weather & Radar': '37',\n",
       " 'Weather - Radar - Storm with Morecast App': '78',\n",
       " 'Weather Live Free - Weather Forecast & Alerts': '35702',\n",
       " 'Weather Underground: Custom Forecast & Local Radar': '49192',\n",
       " 'WeatherBug - Local Weather, Radar, Maps, Alerts': '188583',\n",
       " 'Yahoo Weather': '112603',\n",
       " 'Yurekuru Call': '53',\n",
       " 'iWeather - World weather forecast': '80',\n",
       " 'wetter.com': '0'}"
      ]
     },
     "execution_count": 33,
     "metadata": {},
     "output_type": "execute_result"
    }
   ],
   "source": [
    "# look through ios_final and show number of users for Weather apps\n",
    "weather_apps = {}\n",
    "for apps in ios_final:\n",
    "    genre = apps[11]\n",
    "    app_name = apps[1]\n",
    "    users = apps[5]\n",
    "    if genre == \"Weather\":\n",
    "        weather_apps[app_name] = users\n",
    "\n",
    "weather_apps"
   ]
  },
  {
   "cell_type": "markdown",
   "metadata": {},
   "source": [
    "In terms of users, **Weather** apps seem like a hit or miss. It's a possibility, however, let's look into **Reference** apps as well."
   ]
  },
  {
   "cell_type": "code",
   "execution_count": 34,
   "metadata": {
    "collapsed": false
   },
   "outputs": [
    {
     "data": {
      "text/plain": [
       "{'Bible': '985920',\n",
       " 'City Maps for Minecraft PE - The Best Maps for Minecraft Pocket Edition (MCPE)': '8535',\n",
       " 'Dictionary.com Dictionary & Thesaurus': '200047',\n",
       " 'Dictionary.com Dictionary & Thesaurus for iPad': '54175',\n",
       " 'GUNS MODS for Minecraft PC Edition - Mods Tools': '1497',\n",
       " 'Google Translate': '26786',\n",
       " 'Guides for Pokémon GO - Pokemon GO News and Cheats': '826',\n",
       " 'Horror Maps for Minecraft PE - Download The Scariest Maps for Minecraft Pocket Edition (MCPE) Free': '718',\n",
       " 'Jishokun-Japanese English Dictionary & Translator': '0',\n",
       " 'LUCKY BLOCK MOD ™ for Minecraft PC Edition - The Best Pocket Wiki & Mods Installer Tools': '4693',\n",
       " 'Merriam-Webster Dictionary': '16849',\n",
       " 'Muslim Pro: Ramadan 2017 Prayer Times, Azan, Quran': '18418',\n",
       " 'New Furniture Mods - Pocket Wiki & Game Tools for Minecraft PC Edition': '17588',\n",
       " 'Night Sky': '12122',\n",
       " 'Real Bike Traffic Rider Virtual Reality Glasses': '8',\n",
       " 'VPN Express': '14',\n",
       " 'WWDC': '762',\n",
       " '教えて!goo': '0'}"
      ]
     },
     "execution_count": 34,
     "metadata": {},
     "output_type": "execute_result"
    }
   ],
   "source": [
    "# look through ios_final and show number of users for Reference apps\n",
    "reference_apps = {}\n",
    "for apps in ios_final:\n",
    "    genre = apps[11]\n",
    "    app_name = apps[1]\n",
    "    users = apps[5]\n",
    "    if genre == \"Reference\":\n",
    "        reference_apps[app_name] = users\n",
    "\n",
    "reference_apps"
   ]
  },
  {
   "cell_type": "markdown",
   "metadata": {},
   "source": [
    "It seems like the Reference genre includes dictionaries, translators, and similar reference apps. They also seem to be hit or miss like the Weather apps, however, I believe these may be a better choice to build. Reference apps will not need to be updated as frequently as Weather apps. Let's check out android apps now.\n",
    "\n",
    "### # of Users - Android\n",
    "\n",
    "After a quick inspection of the installs column, most of the values are open-ended (100+, 1,000+, 5,000+, etc.) We're going to leave the numbers as they are, which means that we'll consider that an app with 100,000+ installs has 100,000 installs, and an app with 1,000,000+ installs has 1,000,000 installs, and so on. To perform computations, however, we'll need to convert each install number from string to float. This means we need to remove the commas and the plus characters, otherwise the conversion will fail and raise an error.\n",
    "\n",
    "Now let's calculate the average number of installs per app genre for the Google Play data set."
   ]
  },
  {
   "cell_type": "code",
   "execution_count": 35,
   "metadata": {
    "collapsed": false
   },
   "outputs": [
    {
     "name": "stdout",
     "output_type": "stream",
     "text": [
      "COMMUNICATION : 38456119.167247385\n",
      "VIDEO_PLAYERS : 24727872.452830188\n",
      "SOCIAL : 23253652.127118643\n",
      "PHOTOGRAPHY : 17840110.40229885\n",
      "PRODUCTIVITY : 16787331.344927534\n",
      "GAME : 15588015.603248259\n",
      "TRAVEL_AND_LOCAL : 13984077.710144928\n",
      "ENTERTAINMENT : 11640705.88235294\n",
      "TOOLS : 10801391.298666667\n",
      "NEWS_AND_MAGAZINES : 9549178.467741935\n",
      "BOOKS_AND_REFERENCE : 8767811.894736841\n",
      "SHOPPING : 7036877.311557789\n",
      "PERSONALIZATION : 5201482.6122448975\n",
      "WEATHER : 5074486.197183099\n",
      "HEALTH_AND_FITNESS : 4188821.9853479853\n",
      "MAPS_AND_NAVIGATION : 4056941.7741935486\n",
      "FAMILY : 3697848.1731343283\n",
      "SPORTS : 3638640.1428571427\n",
      "ART_AND_DESIGN : 1986335.0877192982\n",
      "FOOD_AND_DRINK : 1924897.7363636363\n",
      "EDUCATION : 1833495.145631068\n",
      "BUSINESS : 1712290.1474201474\n",
      "LIFESTYLE : 1437816.2687861272\n",
      "FINANCE : 1387692.475609756\n",
      "HOUSE_AND_HOME : 1331540.5616438356\n",
      "DATING : 854028.8303030303\n",
      "COMICS : 817657.2727272727\n",
      "AUTO_AND_VEHICLES : 647317.8170731707\n",
      "LIBRARIES_AND_DEMO : 638503.734939759\n",
      "PARENTING : 542603.6206896552\n",
      "BEAUTY : 513151.88679245283\n",
      "EVENTS : 253542.22222222222\n",
      "MEDICAL : 120550.61980830671\n"
     ]
    }
   ],
   "source": [
    "#Generate table for android categories\n",
    "android_category = freq_table(android_final, 1)\n",
    "\n",
    "#Generate empty table to track avg users\n",
    "android_category_users = {}\n",
    "\n",
    "#loop through table and dataset to track avg users\n",
    "for category in android_category:\n",
    "    total = 0\n",
    "    len_category = 0\n",
    "    for app in android_final:\n",
    "        category_app = app[1]\n",
    "        if category_app == category:\n",
    "            installs_string = app[5]\n",
    "            installs_string = installs_string.replace('+','')\n",
    "            installs_string = installs_string.replace(',','')\n",
    "            installs = float(installs_string)\n",
    "            total += installs\n",
    "            len_category += 1\n",
    "    avg_installs = total / len_category\n",
    "    android_category_users[category] = avg_installs\n",
    "\n",
    "#Function to sort data in descending order\n",
    "def display_table(table):\n",
    "    table_display = []\n",
    "    for key in table:\n",
    "        key_val_as_tuple = (table[key], key)\n",
    "        table_display.append(key_val_as_tuple)\n",
    "\n",
    "    table_sorted = sorted(table_display, reverse = True)\n",
    "    for entry in table_sorted:\n",
    "        print(entry[1], ':', entry[0])\n",
    "\n",
    "#display top avg users for categories\n",
    "display_table(android_category_users)"
   ]
  },
  {
   "cell_type": "markdown",
   "metadata": {
    "collapsed": true
   },
   "source": [
    "We can see that the the most popular categories are COMMUNICATION and VIDEO PLAYERS, however, these are probably heavily skewed by the a handful of apps made by giant companies. Additionally, we're looking for apps that we can recommend to develop on both Android & ios. BOOKS_AND_REFERENCE as well as WEATHER come in pretty high at 8.8M and 5.1M average users, respectively. Let's take a further look into these.\n",
    "\n",
    "### Android - Books & Referene Apps"
   ]
  },
  {
   "cell_type": "code",
   "execution_count": 39,
   "metadata": {
    "collapsed": false
   },
   "outputs": [
    {
     "data": {
      "text/plain": [
       "{'50000 Free eBooks & Free AudioBooks': 10000000.0,\n",
       " 'A-J Media Vault': 10000000.0,\n",
       " 'AC Air condition Troubleshoot,Repair,Maintenance': 10000000.0,\n",
       " 'AE Bulletins': 10000000.0,\n",
       " 'AP Stamps and Registration': 10000000.0,\n",
       " 'AW Tozer Devotionals - Daily': 10000000.0,\n",
       " 'AY Sing': 10000000.0,\n",
       " 'Aab e Hayat Full Novel': 10000000.0,\n",
       " 'Ae Allah na Dai (Rasa)': 10000000.0,\n",
       " 'Ag PhD Deficiencies': 10000000.0,\n",
       " 'Ag PhD Field Guide': 10000000.0,\n",
       " 'Ag PhD Planting Population Calculator': 10000000.0,\n",
       " 'Ag PhD Soybean Diseases': 10000000.0,\n",
       " 'Al Quran (Tafsir & by Word)': 10000000.0,\n",
       " 'Al Quran : EAlim - Translations & MP3 Offline': 10000000.0,\n",
       " 'Al Quran Al karim': 10000000.0,\n",
       " 'Al Quran Indonesia': 10000000.0,\n",
       " \"Al'Quran Bahasa Indonesia\": 10000000.0,\n",
       " 'Al-Muhaffiz': 10000000.0,\n",
       " 'Al-Quran (Free)': 10000000.0,\n",
       " 'Al-Quran 30 Juz free copies': 10000000.0,\n",
       " 'AlReader -any text book reader': 10000000.0,\n",
       " 'Aldiko Book Reader': 10000000.0,\n",
       " 'All Language Translator Free': 10000000.0,\n",
       " 'All Maths Formulas': 10000000.0,\n",
       " 'Amazon Kindle': 10000000.0,\n",
       " 'Ancestry': 10000000.0,\n",
       " 'Anime Mod for BM': 10000000.0,\n",
       " 'Anonymous caller detection': 10000000.0,\n",
       " 'Arizona Statutes, ARS (AZ Law)': 10000000.0,\n",
       " 'Audiobooks from Audible': 10000000.0,\n",
       " 'Ay Hasnain k Nana Milad Naat': 10000000.0,\n",
       " 'Ay Mohabbat Teri Khatir Novel': 10000000.0,\n",
       " 'Azpen eReader': 10000000.0,\n",
       " 'B y H Niños ES': 10000000.0,\n",
       " 'B&H Kids AR': 10000000.0,\n",
       " 'BD All Sim Offer': 10000000.0,\n",
       " 'BD Fishpedia': 10000000.0,\n",
       " 'BM Box': 10000000.0,\n",
       " 'BR Ambedkar Biography & Quotes': 10000000.0,\n",
       " 'BU Alsace': 10000000.0,\n",
       " 'BakaReader EX': 10000000.0,\n",
       " 'Bible': 10000000.0,\n",
       " 'Bible KJV': 10000000.0,\n",
       " 'Bible du Semeur-BDS (French)': 10000000.0,\n",
       " 'Bible with EGW Comments': 10000000.0,\n",
       " 'BibleRead En Cy Zh Yue': 10000000.0,\n",
       " 'Bilingual Dictionary Audio App': 10000000.0,\n",
       " 'Book store': 10000000.0,\n",
       " 'Bootable Methods(USB-CD-DVD)': 10000000.0,\n",
       " 'Borneo Bible, BM Bible': 10000000.0,\n",
       " 'Brilliant Quotes: Life, Love, Family & Motivation': 10000000.0,\n",
       " 'Browsery by Barnes & Noble': 10000000.0,\n",
       " 'Bulgarian French Dictionary Fr': 10000000.0,\n",
       " 'C Offline Tutorial': 10000000.0,\n",
       " 'C Programs Handbook': 10000000.0,\n",
       " 'C Programs and Reference': 10000000.0,\n",
       " 'CA Laws 2018 (California Laws and Codes)': 10000000.0,\n",
       " 'CW Nuclear': 10000000.0,\n",
       " 'CY Spray nozzle': 10000000.0,\n",
       " 'CZ-Help': 10000000.0,\n",
       " 'Catholic La Bu Zo Kam': 10000000.0,\n",
       " 'Chemin (fr)': 10000000.0,\n",
       " 'Cloud of Books': 10000000.0,\n",
       " 'CompactiMa EC pH Calibration': 10000000.0,\n",
       " 'Cool Reader': 10000000.0,\n",
       " 'Cypress College Library': 10000000.0,\n",
       " 'D. H. Lawrence Poems FREE': 10000000.0,\n",
       " 'DC HSEMA': 10000000.0,\n",
       " 'DC Public Library': 10000000.0,\n",
       " 'DM Screen': 10000000.0,\n",
       " 'DV 2018 Winners Guide': 10000000.0,\n",
       " 'DV 2019 - EDV Photo & Form': 10000000.0,\n",
       " 'DV 2019 Entry Guide': 10000000.0,\n",
       " 'Dictionary': 10000000.0,\n",
       " 'Dictionary - Merriam-Webster': 10000000.0,\n",
       " 'Dictionary - WordWeb': 10000000.0,\n",
       " 'Dictionary.com: Find Definitions for English Words': 10000000.0,\n",
       " 'Download free book with green book': 10000000.0,\n",
       " \"Dr. Doug's Tips\": 10000000.0,\n",
       " 'Duaa Ek Ibaadat': 10000000.0,\n",
       " 'E-Book Read - Read Book for free': 10000000.0,\n",
       " 'EB Annual Meetings': 10000000.0,\n",
       " 'EC - AP & Telangana': 10000000.0,\n",
       " 'EGW Writings': 10000000.0,\n",
       " 'EGW Writings 2': 10000000.0,\n",
       " 'EP Research Service': 10000000.0,\n",
       " 'EU Charter': 10000000.0,\n",
       " 'EU Data Protection': 10000000.0,\n",
       " 'EU IP Codes': 10000000.0,\n",
       " 'EW PDF': 10000000.0,\n",
       " 'EZ Quran': 10000000.0,\n",
       " 'Easy Cv maker 2018': 10000000.0,\n",
       " 'Ebook Reader': 10000000.0,\n",
       " 'English Dictionary - Offline': 10000000.0,\n",
       " 'English Grammar Complete Handbook': 10000000.0,\n",
       " 'English Hindi Dictionary': 10000000.0,\n",
       " 'English Persian Dictionary': 10000000.0,\n",
       " 'English To Shona Dictionary': 10000000.0,\n",
       " 'English to Hindi Dictionary': 10000000.0,\n",
       " 'English to Urdu Dictionary': 10000000.0,\n",
       " 'English translation from Bengali': 10000000.0,\n",
       " 'English-Myanmar Dictionary': 10000000.0,\n",
       " 'FA Part 1 & 2 Past Papers Solved Free – Offline': 10000000.0,\n",
       " 'FBReader: Favorite Book Reader': 10000000.0,\n",
       " 'FamilySearch Tree': 10000000.0,\n",
       " 'Fanfic-FR': 10000000.0,\n",
       " 'Fertilizer Removal By Crop': 10000000.0,\n",
       " 'Fix Error Google Playstore': 10000000.0,\n",
       " 'Florida - Pocket Brainbook': 10000000.0,\n",
       " 'Florida Statutes (FL Code)': 10000000.0,\n",
       " 'Flybook': 10000000.0,\n",
       " 'Free Book Reader': 10000000.0,\n",
       " 'Free Books - Spirit Fanfiction and Stories': 10000000.0,\n",
       " 'Free Panda Radio Music': 10000000.0,\n",
       " 'GATE 21 years CS Papers(2011-2018 Solved)': 10000000.0,\n",
       " 'Golden Dictionary (EN-AR)': 10000000.0,\n",
       " 'Golden Dictionary (FR-AR)': 10000000.0,\n",
       " 'Google I/O 2018': 10000000.0,\n",
       " 'Google Play Books': 10000000.0,\n",
       " 'Greek Bible FP (Audio)': 10000000.0,\n",
       " 'Guide (for X-MEN)': 10000000.0,\n",
       " 'Guide for DB Xenoverse': 10000000.0,\n",
       " 'Guide for DB Xenoverse 2': 10000000.0,\n",
       " 'Guide for IMS DB': 10000000.0,\n",
       " 'Guide for R Programming': 10000000.0,\n",
       " 'HTC Help': 10000000.0,\n",
       " 'Hafizi Quran 15 lines per page': 10000000.0,\n",
       " 'Hisnul Al Muslim - Hisn Invocations & Adhkaar': 10000000.0,\n",
       " 'How to Write CV': 10000000.0,\n",
       " 'Hymnes et Louanges': 10000000.0,\n",
       " 'JW Library': 10000000.0,\n",
       " 'Khrifa Hla Bu (Solfa)': 10000000.0,\n",
       " \"Kinot & Eichah for Tisha B'Av\": 10000000.0,\n",
       " 'Koran Read &MP3 30 Juz Offline': 10000000.0,\n",
       " 'Kristian Hla Bu': 10000000.0,\n",
       " 'La Fe de Jesus': 10000000.0,\n",
       " 'La Fe de Jesús': 10000000.0,\n",
       " 'La citadelle du musulman': 10000000.0,\n",
       " 'Le Fe de Jesus': 10000000.0,\n",
       " 'Learn CT Scan Of Head': 10000000.0,\n",
       " 'Learn R Programming': 10000000.0,\n",
       " 'Learn R Programming Full': 10000000.0,\n",
       " 'Learn SAP BW': 10000000.0,\n",
       " 'Learn SAP BW on HANA': 10000000.0,\n",
       " 'Litnet - E-books': 10000000.0,\n",
       " 'MOD Black for BM': 10000000.0,\n",
       " 'Modlitební knížka CZ': 10000000.0,\n",
       " 'Moon+ Reader': 10000000.0,\n",
       " 'My Little Pony AR Guide': 10000000.0,\n",
       " 'NOOK App for NOOK Devices': 10000000.0,\n",
       " 'NOOK Audiobooks': 10000000.0,\n",
       " 'NOOK: Read eBooks & Magazines': 10000000.0,\n",
       " 'Offline English Dictionary': 10000000.0,\n",
       " 'Offline: English to Tagalog Dictionary': 10000000.0,\n",
       " 'Only 30 days in English, the guideline is guaranteed': 10000000.0,\n",
       " 'Oxford A-Z of English Usage': 10000000.0,\n",
       " 'Oxford Dictionary of English : Free': 10000000.0,\n",
       " 'Painting Lulu DC Super Friends': 10000000.0,\n",
       " 'Pdf Book Download - Read Pdf Book': 10000000.0,\n",
       " 'Quran for Android': 10000000.0,\n",
       " 'R Language Reference Guide': 10000000.0,\n",
       " 'R Programing Offline Tutorial': 10000000.0,\n",
       " 'R Quick Reference Big Data': 10000000.0,\n",
       " 'Read books online': 10000000.0,\n",
       " 'ReadEra – free ebook reader': 10000000.0,\n",
       " 'Recipes of Prophetic Medicine for free': 10000000.0,\n",
       " 'SA HLA BU': 10000000.0,\n",
       " 'SDA Collegiate Quarterly': 10000000.0,\n",
       " 'SDA Sabbath School Quarterly': 10000000.0,\n",
       " \"SH-02J Owner's Manual (Android 8.0)\": 10000000.0,\n",
       " 'Sabbath School': 10000000.0,\n",
       " 'Satellite AR': 10000000.0,\n",
       " 'Spanish English Translator': 10000000.0,\n",
       " 'Stats Royale for Clash Royale': 10000000.0,\n",
       " 'Surah Al-Waqiah': 10000000.0,\n",
       " 'TN Patta Citta & EC': 10000000.0,\n",
       " 'The Pursuit of God': 10000000.0,\n",
       " 'The SCP Foundation DB fr nn5n': 10000000.0,\n",
       " 'Tozer Devotional -Series 1': 10000000.0,\n",
       " 'URBANO V 02 instruction manual': 10000000.0,\n",
       " 'V Made': 10000000.0,\n",
       " 'Wattpad 📖 Free Books': 10000000.0,\n",
       " 'Wikipedia': 10000000.0,\n",
       " 'Youboox - Livres, BD et magazines': 10000000.0,\n",
       " 'bp e-store': 10000000.0,\n",
       " 'cloudLibrary': 10000000.0,\n",
       " 'eBoox new: Reader for fb2 epub zip books': 10000000.0,\n",
       " 'eBoox: book reader fb2 epub zip': 10000000.0,\n",
       " 'wikiHow: how to do anything': 10000000.0}"
      ]
     },
     "execution_count": 39,
     "metadata": {},
     "output_type": "execute_result"
    }
   ],
   "source": [
    "# look through ios_final and show number of users for Reference apps\n",
    "books_and_reference_apps = {}\n",
    "for apps in android_final:\n",
    "    category = apps[1]\n",
    "    app_name = apps[0]\n",
    "    if category == \"BOOKS_AND_REFERENCE\":\n",
    "        installs_string = app[5]\n",
    "        installs_string = installs_string.replace('+','')\n",
    "        installs_string = installs_string.replace(',','')\n",
    "        installs = float(installs_string)\n",
    "        books_and_reference_apps[app_name] = installs\n",
    "\n",
    "books_and_reference_apps"
   ]
  },
  {
   "cell_type": "markdown",
   "metadata": {},
   "source": [
    "Above we can see that there are a wide variety of apps in the BOOKS_AND_REFERENCE category that each have more than 1M installs. Let's examine WEATHER as well.\n",
    "\n",
    "### Android - Books & Referene Apps"
   ]
  },
  {
   "cell_type": "code",
   "execution_count": 40,
   "metadata": {
    "collapsed": false
   },
   "outputs": [
    {
     "data": {
      "text/plain": [
       "{\"AEMET's time\": 10000000.0,\n",
       " 'APE Weather ( Live Forecast)': 10000000.0,\n",
       " 'AccuWeather: Daily Forecast & Live Weather Reports': 10000000.0,\n",
       " 'Ag Weather Tools': 10000000.0,\n",
       " 'Amber Weather': 10000000.0,\n",
       " 'Au Weather Free': 10000000.0,\n",
       " 'ByssWeather for Wear OS': 10000000.0,\n",
       " 'Clearwater, FL - weather and more': 10000000.0,\n",
       " 'Climatempo Lite - 15 day weather forecast': 10000000.0,\n",
       " 'DS Barometer - Altimeter and Weather Information': 10000000.0,\n",
       " 'DS Thermometer': 10000000.0,\n",
       " 'EZ Clock & Weather Widget': 10000000.0,\n",
       " 'FR Tides': 10000000.0,\n",
       " 'Florida Storms': 10000000.0,\n",
       " 'ForecaWeather': 10000000.0,\n",
       " 'Free live weather on screen': 10000000.0,\n",
       " 'Fu*** Weather (Funny Weather)': 10000000.0,\n",
       " 'GO Weather - Widget, Theme, Wallpaper, Efficient': 10000000.0,\n",
       " 'GO Weather EX Theme White': 10000000.0,\n",
       " 'HTC Weather': 10000000.0,\n",
       " 'HumorCast - Authentic Weather': 10000000.0,\n",
       " 'Info BMKG': 10000000.0,\n",
       " 'Klara weather': 10000000.0,\n",
       " \"Klart.se - Sweden's best weather\": 10000000.0,\n",
       " 'Live Weather & Daily Local Weather Forecast': 10000000.0,\n",
       " 'Live Weather Pro': 10000000.0,\n",
       " 'Local Weather Forecast & Visual Widget': 10000000.0,\n",
       " 'Local weather Forecast': 10000000.0,\n",
       " 'METEO FRANCE': 10000000.0,\n",
       " 'MIUI Style GO Weather EX': 10000000.0,\n",
       " 'Moonlight GO Weather EX': 10000000.0,\n",
       " 'My Earthquake Alerts - US & Worldwide Earthquakes': 10000000.0,\n",
       " 'MyRadar NOAA Weather Radar': 10000000.0,\n",
       " 'Météo Algérie DZ': 10000000.0,\n",
       " 'Météociel': 10000000.0,\n",
       " 'New 2018 Weather App & Widget': 10000000.0,\n",
       " 'RadarNow!': 10000000.0,\n",
       " 'Rainfall radar - weather': 10000000.0,\n",
       " 'Real time Weather Forecast': 10000000.0,\n",
       " 'SMHI Weather': 10000000.0,\n",
       " 'Skywatch BL': 10000000.0,\n",
       " 'St. Petersburg, FL - weather and more': 10000000.0,\n",
       " 'Storm Radar: Tornado Tracker & Hurricane Alerts': 10000000.0,\n",
       " 'Storm Shield': 10000000.0,\n",
       " 'Sun & Moon AR Locator': 10000000.0,\n",
       " 'The Weather Channel: Rain Forecast & Storm Alerts': 10000000.0,\n",
       " 'The Weather Network': 10000000.0,\n",
       " 'W - Weather Forecast & Animated Radar Maps': 10000000.0,\n",
       " \"WSVN • South Florida's Source for Weather\": 10000000.0,\n",
       " 'Weather': 10000000.0,\n",
       " 'Weather & Clock Widget for Android': 10000000.0,\n",
       " 'Weather 14 Days': 10000000.0,\n",
       " 'Weather BZ': 10000000.0,\n",
       " 'Weather Crave': 10000000.0,\n",
       " 'Weather From DMI/YR': 10000000.0,\n",
       " 'Weather Radar Widget': 10000000.0,\n",
       " 'Weather by WeatherBug: Forecast, Radar & Alerts': 10000000.0,\n",
       " 'Weather by eltiempo.es': 10000000.0,\n",
       " 'Weather forecast': 10000000.0,\n",
       " 'Weather –Simple weather forecast': 10000000.0,\n",
       " 'WeatherClear - Ad-free Weather, Minute forecast': 10000000.0,\n",
       " 'WebCams': 10000000.0,\n",
       " 'Wetter by t-online.de': 10000000.0,\n",
       " 'Wind & Weather Meter for Ag': 10000000.0,\n",
       " 'Windguru Lite': 10000000.0,\n",
       " 'World Webcams': 10000000.0,\n",
       " 'Yahoo Weather': 10000000.0,\n",
       " 'Yahoo! Weather for SH Forecast for understanding the approach of rain clouds Free': 10000000.0,\n",
       " 'Yandex.Weather': 10000000.0,\n",
       " 'weather - weather forecast': 10000000.0,\n",
       " 'wetter.com - Weather and Radar': 10000000.0}"
      ]
     },
     "execution_count": 40,
     "metadata": {},
     "output_type": "execute_result"
    }
   ],
   "source": [
    "# look through ios_final and show number of users for Reference apps\n",
    "weather_android_apps = {}\n",
    "for apps in android_final:\n",
    "    category = apps[1]\n",
    "    app_name = apps[0]\n",
    "    if category == \"WEATHER\":\n",
    "        installs_string = app[5]\n",
    "        installs_string = installs_string.replace('+','')\n",
    "        installs_string = installs_string.replace(',','')\n",
    "        installs = float(installs_string)\n",
    "        weather_android_apps[app_name] = installs\n",
    "\n",
    "weather_android_apps"
   ]
  },
  {
   "cell_type": "markdown",
   "metadata": {},
   "source": [
    "Here we can see a similar result. Many of the individual apps that fall under the WEATHER category have over 1M installs.\n",
    "\n",
    "Reference and Weather apps both seem to be good options to recommend for building on both the android and ios platforms. For Reference apps, religious books such as the Quaran and Bible are popular so perhaps building an app based on another religous book can generate large numbers of users. As for Weather, there seems to be weather apps that cover a large area and apps that cover specific regions or types of weather (such as storms). Perhaps building a weather app for a specific region with high population or specific weather not already covered on the android app store could generate large number of users.\n",
    "\n",
    "# Conclusion\n",
    "\n",
    "In this project, we analyzed data about the App Store and Google Play mobile apps with the goal of recommending an app profile that can be profitable for both markets.\n",
    "\n",
    "We concluded that taking a religious book and turning it into an app could be profitable for both the Google Play and the App Store markets. Additionally, creating a weather app based on a densley populated region or a weather app based on a specific type of weather can also be profitable."
   ]
  },
  {
   "cell_type": "code",
   "execution_count": null,
   "metadata": {
    "collapsed": true
   },
   "outputs": [],
   "source": []
  }
 ],
 "metadata": {
  "kernelspec": {
   "display_name": "Python 3",
   "language": "python",
   "name": "python3"
  },
  "language_info": {
   "codemirror_mode": {
    "name": "ipython",
    "version": 3
   },
   "file_extension": ".py",
   "mimetype": "text/x-python",
   "name": "python",
   "nbconvert_exporter": "python",
   "pygments_lexer": "ipython3",
   "version": "3.4.3"
  }
 },
 "nbformat": 4,
 "nbformat_minor": 2
}
