{
 "cells": [
  {
   "cell_type": "markdown",
   "metadata": {},
   "source": [
    "# Answering ex. Business Questions using SQL\n",
    "\n",
    "In this project we'll be answering example business questions using a database that stores data for a music store called chinook. The image below shows the schema (visual relationships between tables in the database).\n",
    "\n",
    "### Schema\n",
    "\n",
    "![image](https://s3.amazonaws.com/dq-content/191/chinook-schema.svg)"
   ]
  },
  {
   "cell_type": "markdown",
   "metadata": {},
   "source": [
    "We'll start by loading our data and quickly crosschecking the contents against the schema."
   ]
  },
  {
   "cell_type": "code",
   "execution_count": 1,
   "metadata": {
    "collapsed": false
   },
   "outputs": [
    {
     "data": {
      "text/plain": [
       "'Connected: None@chinook.db'"
      ]
     },
     "execution_count": 1,
     "metadata": {},
     "output_type": "execute_result"
    }
   ],
   "source": [
    "%%capture\n",
    "%load_ext sql\n",
    "%sql sqlite:///chinook.db"
   ]
  },
  {
   "cell_type": "code",
   "execution_count": 2,
   "metadata": {
    "collapsed": false
   },
   "outputs": [
    {
     "name": "stdout",
     "output_type": "stream",
     "text": [
      "Done.\n"
     ]
    },
    {
     "data": {
      "text/html": [
       "<table>\n",
       "    <tr>\n",
       "        <th>name</th>\n",
       "        <th>type</th>\n",
       "    </tr>\n",
       "    <tr>\n",
       "        <td>album</td>\n",
       "        <td>table</td>\n",
       "    </tr>\n",
       "    <tr>\n",
       "        <td>artist</td>\n",
       "        <td>table</td>\n",
       "    </tr>\n",
       "    <tr>\n",
       "        <td>customer</td>\n",
       "        <td>table</td>\n",
       "    </tr>\n",
       "    <tr>\n",
       "        <td>employee</td>\n",
       "        <td>table</td>\n",
       "    </tr>\n",
       "    <tr>\n",
       "        <td>genre</td>\n",
       "        <td>table</td>\n",
       "    </tr>\n",
       "    <tr>\n",
       "        <td>invoice</td>\n",
       "        <td>table</td>\n",
       "    </tr>\n",
       "    <tr>\n",
       "        <td>invoice_line</td>\n",
       "        <td>table</td>\n",
       "    </tr>\n",
       "    <tr>\n",
       "        <td>media_type</td>\n",
       "        <td>table</td>\n",
       "    </tr>\n",
       "    <tr>\n",
       "        <td>playlist</td>\n",
       "        <td>table</td>\n",
       "    </tr>\n",
       "    <tr>\n",
       "        <td>playlist_track</td>\n",
       "        <td>table</td>\n",
       "    </tr>\n",
       "    <tr>\n",
       "        <td>track</td>\n",
       "        <td>table</td>\n",
       "    </tr>\n",
       "</table>"
      ],
      "text/plain": [
       "[('album', 'table'),\n",
       " ('artist', 'table'),\n",
       " ('customer', 'table'),\n",
       " ('employee', 'table'),\n",
       " ('genre', 'table'),\n",
       " ('invoice', 'table'),\n",
       " ('invoice_line', 'table'),\n",
       " ('media_type', 'table'),\n",
       " ('playlist', 'table'),\n",
       " ('playlist_track', 'table'),\n",
       " ('track', 'table')]"
      ]
     },
     "execution_count": 2,
     "metadata": {},
     "output_type": "execute_result"
    }
   ],
   "source": [
    "%%sql\n",
    "SELECT\n",
    "    name,\n",
    "    type\n",
    "FROM sqlite_master\n",
    "WHERE type IN (\"table\",\"view\");"
   ]
  },
  {
   "cell_type": "markdown",
   "metadata": {},
   "source": [
    "Looks like we're set. Let's get to business!"
   ]
  },
  {
   "cell_type": "markdown",
   "metadata": {},
   "source": [
    "## Problem 1\n",
    "\n",
    "The Chinook record store has just signed a deal with a new record label, and you've been tasked with selecting the first three albums that will be added to the store, from a list of four. All four albums are by artists that don't have any tracks in the store right now - we have the artist names, and the genre of music they produce:\n",
    "\n",
    "| Artist Name | Genre|\n",
    "| --- | --- |\n",
    "| Regal | Hip-Hop |\n",
    "| Red Tone | Punk |\n",
    "| Meteor and the Girls | Pop |\n",
    "| Slim Jim Bites | Blues |\n",
    "\n",
    "The record label specializes in artists from the USA, and they have given Chinook some money to advertise the new albums in the USA, so we're interested in finding out which genres sell the best in the USA.\n",
    "\n",
    "You'll need to write a query to find out which genres sell the most tracks in the USA, write up a summary of your findings, and make a recommendation for the three artists whose albums we should purchase for the store.\n",
    "\n"
   ]
  },
  {
   "cell_type": "markdown",
   "metadata": {},
   "source": [
    "I'll start by examing the tables that will be needed for this analysis.\n",
    "\n",
    "- genre\n",
    "- track\n",
    "- invoice\n",
    "- invoice_line"
   ]
  },
  {
   "cell_type": "code",
   "execution_count": 3,
   "metadata": {
    "collapsed": false
   },
   "outputs": [
    {
     "name": "stdout",
     "output_type": "stream",
     "text": [
      "Done.\n"
     ]
    },
    {
     "data": {
      "text/html": [
       "<table>\n",
       "    <tr>\n",
       "        <th>genre_id</th>\n",
       "        <th>name</th>\n",
       "    </tr>\n",
       "    <tr>\n",
       "        <td>1</td>\n",
       "        <td>Rock</td>\n",
       "    </tr>\n",
       "    <tr>\n",
       "        <td>2</td>\n",
       "        <td>Jazz</td>\n",
       "    </tr>\n",
       "    <tr>\n",
       "        <td>3</td>\n",
       "        <td>Metal</td>\n",
       "    </tr>\n",
       "</table>"
      ],
      "text/plain": [
       "[(1, 'Rock'), (2, 'Jazz'), (3, 'Metal')]"
      ]
     },
     "execution_count": 3,
     "metadata": {},
     "output_type": "execute_result"
    }
   ],
   "source": [
    "%%sql\n",
    "SELECT * FROM genre LIMIT 3;"
   ]
  },
  {
   "cell_type": "code",
   "execution_count": 4,
   "metadata": {
    "collapsed": false
   },
   "outputs": [
    {
     "name": "stdout",
     "output_type": "stream",
     "text": [
      "Done.\n"
     ]
    },
    {
     "data": {
      "text/html": [
       "<table>\n",
       "    <tr>\n",
       "        <th>track_id</th>\n",
       "        <th>name</th>\n",
       "        <th>album_id</th>\n",
       "        <th>media_type_id</th>\n",
       "        <th>genre_id</th>\n",
       "        <th>composer</th>\n",
       "        <th>milliseconds</th>\n",
       "        <th>bytes</th>\n",
       "        <th>unit_price</th>\n",
       "    </tr>\n",
       "    <tr>\n",
       "        <td>1</td>\n",
       "        <td>For Those About To Rock (We Salute You)</td>\n",
       "        <td>1</td>\n",
       "        <td>1</td>\n",
       "        <td>1</td>\n",
       "        <td>Angus Young, Malcolm Young, Brian Johnson</td>\n",
       "        <td>343719</td>\n",
       "        <td>11170334</td>\n",
       "        <td>0.99</td>\n",
       "    </tr>\n",
       "    <tr>\n",
       "        <td>2</td>\n",
       "        <td>Balls to the Wall</td>\n",
       "        <td>2</td>\n",
       "        <td>2</td>\n",
       "        <td>1</td>\n",
       "        <td>None</td>\n",
       "        <td>342562</td>\n",
       "        <td>5510424</td>\n",
       "        <td>0.99</td>\n",
       "    </tr>\n",
       "    <tr>\n",
       "        <td>3</td>\n",
       "        <td>Fast As a Shark</td>\n",
       "        <td>3</td>\n",
       "        <td>2</td>\n",
       "        <td>1</td>\n",
       "        <td>F. Baltes, S. Kaufman, U. Dirkscneider &amp; W. Hoffman</td>\n",
       "        <td>230619</td>\n",
       "        <td>3990994</td>\n",
       "        <td>0.99</td>\n",
       "    </tr>\n",
       "</table>"
      ],
      "text/plain": [
       "[(1, 'For Those About To Rock (We Salute You)', 1, 1, 1, 'Angus Young, Malcolm Young, Brian Johnson', 343719, 11170334, 0.99),\n",
       " (2, 'Balls to the Wall', 2, 2, 1, None, 342562, 5510424, 0.99),\n",
       " (3, 'Fast As a Shark', 3, 2, 1, 'F. Baltes, S. Kaufman, U. Dirkscneider & W. Hoffman', 230619, 3990994, 0.99)]"
      ]
     },
     "execution_count": 4,
     "metadata": {},
     "output_type": "execute_result"
    }
   ],
   "source": [
    "%%sql\n",
    "SELECT * FROM track LIMIT 3;"
   ]
  },
  {
   "cell_type": "code",
   "execution_count": 5,
   "metadata": {
    "collapsed": false
   },
   "outputs": [
    {
     "name": "stdout",
     "output_type": "stream",
     "text": [
      "Done.\n"
     ]
    },
    {
     "data": {
      "text/html": [
       "<table>\n",
       "    <tr>\n",
       "        <th>invoice_id</th>\n",
       "        <th>customer_id</th>\n",
       "        <th>invoice_date</th>\n",
       "        <th>billing_address</th>\n",
       "        <th>billing_city</th>\n",
       "        <th>billing_state</th>\n",
       "        <th>billing_country</th>\n",
       "        <th>billing_postal_code</th>\n",
       "        <th>total</th>\n",
       "    </tr>\n",
       "    <tr>\n",
       "        <td>1</td>\n",
       "        <td>18</td>\n",
       "        <td>2017-01-03 00:00:00</td>\n",
       "        <td>627 Broadway</td>\n",
       "        <td>New York</td>\n",
       "        <td>NY</td>\n",
       "        <td>USA</td>\n",
       "        <td>10012-2612</td>\n",
       "        <td>15.84</td>\n",
       "    </tr>\n",
       "    <tr>\n",
       "        <td>2</td>\n",
       "        <td>30</td>\n",
       "        <td>2017-01-03 00:00:00</td>\n",
       "        <td>230 Elgin Street</td>\n",
       "        <td>Ottawa</td>\n",
       "        <td>ON</td>\n",
       "        <td>Canada</td>\n",
       "        <td>K2P 1L7</td>\n",
       "        <td>9.9</td>\n",
       "    </tr>\n",
       "    <tr>\n",
       "        <td>3</td>\n",
       "        <td>40</td>\n",
       "        <td>2017-01-05 00:00:00</td>\n",
       "        <td>8, Rue Hanovre</td>\n",
       "        <td>Paris</td>\n",
       "        <td>None</td>\n",
       "        <td>France</td>\n",
       "        <td>75002</td>\n",
       "        <td>1.98</td>\n",
       "    </tr>\n",
       "</table>"
      ],
      "text/plain": [
       "[(1, 18, '2017-01-03 00:00:00', '627 Broadway', 'New York', 'NY', 'USA', '10012-2612', 15.84),\n",
       " (2, 30, '2017-01-03 00:00:00', '230 Elgin Street', 'Ottawa', 'ON', 'Canada', 'K2P 1L7', 9.9),\n",
       " (3, 40, '2017-01-05 00:00:00', '8, Rue Hanovre', 'Paris', 'None', 'France', '75002', 1.98)]"
      ]
     },
     "execution_count": 5,
     "metadata": {},
     "output_type": "execute_result"
    }
   ],
   "source": [
    "%%sql\n",
    "SELECT * FROM invoice LIMIT 3;"
   ]
  },
  {
   "cell_type": "code",
   "execution_count": 6,
   "metadata": {
    "collapsed": false
   },
   "outputs": [
    {
     "name": "stdout",
     "output_type": "stream",
     "text": [
      "Done.\n"
     ]
    },
    {
     "data": {
      "text/html": [
       "<table>\n",
       "    <tr>\n",
       "        <th>invoice_line_id</th>\n",
       "        <th>invoice_id</th>\n",
       "        <th>track_id</th>\n",
       "        <th>unit_price</th>\n",
       "        <th>quantity</th>\n",
       "    </tr>\n",
       "    <tr>\n",
       "        <td>1</td>\n",
       "        <td>1</td>\n",
       "        <td>1158</td>\n",
       "        <td>0.99</td>\n",
       "        <td>1</td>\n",
       "    </tr>\n",
       "    <tr>\n",
       "        <td>2</td>\n",
       "        <td>1</td>\n",
       "        <td>1159</td>\n",
       "        <td>0.99</td>\n",
       "        <td>1</td>\n",
       "    </tr>\n",
       "    <tr>\n",
       "        <td>3</td>\n",
       "        <td>1</td>\n",
       "        <td>1160</td>\n",
       "        <td>0.99</td>\n",
       "        <td>1</td>\n",
       "    </tr>\n",
       "</table>"
      ],
      "text/plain": [
       "[(1, 1, 1158, 0.99, 1), (2, 1, 1159, 0.99, 1), (3, 1, 1160, 0.99, 1)]"
      ]
     },
     "execution_count": 6,
     "metadata": {},
     "output_type": "execute_result"
    }
   ],
   "source": [
    "%%sql\n",
    "SELECT * FROM invoice_line LIMIT 3;"
   ]
  },
  {
   "cell_type": "markdown",
   "metadata": {},
   "source": [
    "Now, I need to join these table to come up with the quantity sold for each genre. I'll also calculate the percentage of total using a subquery that gives me the total for total tracks sold in the USA."
   ]
  },
  {
   "cell_type": "code",
   "execution_count": 7,
   "metadata": {
    "collapsed": false
   },
   "outputs": [
    {
     "name": "stdout",
     "output_type": "stream",
     "text": [
      "Done.\n"
     ]
    },
    {
     "data": {
      "text/html": [
       "<table>\n",
       "    <tr>\n",
       "        <th>genre</th>\n",
       "        <th>quantity</th>\n",
       "        <th>percent_of_total</th>\n",
       "    </tr>\n",
       "    <tr>\n",
       "        <td>Rock</td>\n",
       "        <td>561</td>\n",
       "        <td>53.0</td>\n",
       "    </tr>\n",
       "    <tr>\n",
       "        <td>Metal</td>\n",
       "        <td>124</td>\n",
       "        <td>12.0</td>\n",
       "    </tr>\n",
       "    <tr>\n",
       "        <td>Alternative &amp; Punk</td>\n",
       "        <td>130</td>\n",
       "        <td>12.0</td>\n",
       "    </tr>\n",
       "    <tr>\n",
       "        <td>R&amp;B/Soul</td>\n",
       "        <td>53</td>\n",
       "        <td>5.0</td>\n",
       "    </tr>\n",
       "    <tr>\n",
       "        <td>Blues</td>\n",
       "        <td>36</td>\n",
       "        <td>3.0</td>\n",
       "    </tr>\n",
       "    <tr>\n",
       "        <td>Alternative</td>\n",
       "        <td>35</td>\n",
       "        <td>3.0</td>\n",
       "    </tr>\n",
       "    <tr>\n",
       "        <td>Pop</td>\n",
       "        <td>22</td>\n",
       "        <td>2.0</td>\n",
       "    </tr>\n",
       "    <tr>\n",
       "        <td>Latin</td>\n",
       "        <td>22</td>\n",
       "        <td>2.0</td>\n",
       "    </tr>\n",
       "    <tr>\n",
       "        <td>Hip Hop/Rap</td>\n",
       "        <td>20</td>\n",
       "        <td>2.0</td>\n",
       "    </tr>\n",
       "    <tr>\n",
       "        <td>Reggae</td>\n",
       "        <td>6</td>\n",
       "        <td>1.0</td>\n",
       "    </tr>\n",
       "</table>"
      ],
      "text/plain": [
       "[('Rock', 561, 53.0),\n",
       " ('Metal', 124, 12.0),\n",
       " ('Alternative & Punk', 130, 12.0),\n",
       " ('R&B/Soul', 53, 5.0),\n",
       " ('Blues', 36, 3.0),\n",
       " ('Alternative', 35, 3.0),\n",
       " ('Pop', 22, 2.0),\n",
       " ('Latin', 22, 2.0),\n",
       " ('Hip Hop/Rap', 20, 2.0),\n",
       " ('Reggae', 6, 1.0)]"
      ]
     },
     "execution_count": 7,
     "metadata": {},
     "output_type": "execute_result"
    }
   ],
   "source": [
    "%%sql\n",
    "\n",
    "WITH total_tracks AS\n",
    "    (\n",
    "    SELECT\n",
    "        i.billing_country country,\n",
    "        SUM(il.quantity) us_quantity\n",
    "    FROM invoice_line il\n",
    "    LEFT JOIN invoice i ON i.invoice_id = il.invoice_id\n",
    "    WHERE i.billing_country = 'USA'\n",
    "    ),\n",
    "     quantity_table AS\n",
    "    (\n",
    "    SELECT \n",
    "        i.billing_country country,\n",
    "        g.name genre,\n",
    "        SUM(il.quantity) quantity\n",
    "    FROM invoice i\n",
    "    LEFT JOIN invoice_line il ON il.invoice_id = i.invoice_id\n",
    "    LEFT JOIN track t ON t.track_id = il.track_id\n",
    "    LEFT JOIN genre g ON g.genre_id = t.genre_id\n",
    "    WHERE i.billing_country = 'USA'\n",
    "    GROUP BY genre\n",
    "    ORDER BY 2 DESC\n",
    "    )\n",
    "\n",
    "SELECT\n",
    "    qt.genre,\n",
    "    qt.quantity,\n",
    "    ROUND(CAST(qt.quantity AS float) / \n",
    "          CAST(tt.us_quantity AS float)* 100,0) percent_of_total\n",
    "FROM quantity_table qt\n",
    "LEFT JOIN total_tracks tt ON tt.country = qt.country\n",
    "ORDER BY 3 DESC\n",
    "LIMIT 10;"
   ]
  },
  {
   "cell_type": "markdown",
   "metadata": {},
   "source": [
    "## Problem 1: Conclusion\n",
    "\n",
    "From historical sales data, we generated a table that shows us track sales based on genres. Of the four albums, Regal will most likely sell less than the other 3. We should purchase:\n",
    "\n",
    "- Red Tone\n",
    "- Meteor and the Girls\n",
    "- Slim Jim Bites."
   ]
  },
  {
   "cell_type": "markdown",
   "metadata": {},
   "source": [
    "## Problem 2\n",
    "\n",
    "Each customer for the Chinook store gets assigned to a sales support agent within the company when they first make a purchase. You have been asked to analyze the purchases of customers belonging to each employee to see if any sales support agent is performing either better or worse than the others.\n"
   ]
  },
  {
   "cell_type": "code",
   "execution_count": 8,
   "metadata": {
    "collapsed": false
   },
   "outputs": [
    {
     "name": "stdout",
     "output_type": "stream",
     "text": [
      "Done.\n"
     ]
    },
    {
     "data": {
      "text/html": [
       "<table>\n",
       "    <tr>\n",
       "        <th>sales_rep</th>\n",
       "        <th>manager</th>\n",
       "        <th>hire_date</th>\n",
       "        <th>total_sales</th>\n",
       "        <th>total_customers</th>\n",
       "        <th>avg_sales_per_customer</th>\n",
       "    </tr>\n",
       "    <tr>\n",
       "        <td>Jane Peacock</td>\n",
       "        <td>Nancy Edwards</td>\n",
       "        <td>2017-04-01 00:00:00</td>\n",
       "        <td>1731.510000000004</td>\n",
       "        <td>212</td>\n",
       "        <td>8.16750000000002</td>\n",
       "    </tr>\n",
       "    <tr>\n",
       "        <td>Margaret Park</td>\n",
       "        <td>Nancy Edwards</td>\n",
       "        <td>2017-05-03 00:00:00</td>\n",
       "        <td>1584.0000000000032</td>\n",
       "        <td>214</td>\n",
       "        <td>7.40186915887852</td>\n",
       "    </tr>\n",
       "    <tr>\n",
       "        <td>Steve Johnson</td>\n",
       "        <td>Nancy Edwards</td>\n",
       "        <td>2017-10-17 00:00:00</td>\n",
       "        <td>1393.9200000000028</td>\n",
       "        <td>188</td>\n",
       "        <td>7.414468085106398</td>\n",
       "    </tr>\n",
       "</table>"
      ],
      "text/plain": [
       "[('Jane Peacock', 'Nancy Edwards', '2017-04-01 00:00:00', 1731.510000000004, 212, 8.16750000000002),\n",
       " ('Margaret Park', 'Nancy Edwards', '2017-05-03 00:00:00', 1584.0000000000032, 214, 7.40186915887852),\n",
       " ('Steve Johnson', 'Nancy Edwards', '2017-10-17 00:00:00', 1393.9200000000028, 188, 7.414468085106398)]"
      ]
     },
     "execution_count": 8,
     "metadata": {},
     "output_type": "execute_result"
    }
   ],
   "source": [
    "%%sql\n",
    "SELECT\n",
    "    e1.first_name||' '||e1.last_name sales_rep,\n",
    "    e2.first_name||' '||e2.last_name manager,\n",
    "    e1.hire_date hire_date,\n",
    "    SUM(i.total) total_sales,\n",
    "    COUNT(c.customer_id) total_customers,\n",
    "    SUM(i.total) / COUNT(c.customer_id) avg_sales_per_customer\n",
    "FROM employee e1\n",
    "LEFT JOIN employee e2 ON e1.reports_to = e2.employee_id\n",
    "LEFT JOIN customer c ON e1.employee_id = c.support_rep_id\n",
    "LEFT JOIN invoice i ON i.customer_id = c.customer_id\n",
    "WHERE e1.title = 'Sales Support Agent'\n",
    "GROUP BY sales_rep\n",
    "ORDER BY total_sales DESC;\n"
   ]
  },
  {
   "cell_type": "markdown",
   "metadata": {},
   "source": [
    "From the table above, Jane performs better than Margaret and Steve in terms of sales. We can also see that Jane's average sales per customer is higher than the others."
   ]
  },
  {
   "cell_type": "code",
   "execution_count": 9,
   "metadata": {
    "collapsed": false
   },
   "outputs": [
    {
     "name": "stdout",
     "output_type": "stream",
     "text": [
      "Done.\n"
     ]
    },
    {
     "data": {
      "text/html": [
       "<table>\n",
       "    <tr>\n",
       "        <th>employee_id</th>\n",
       "        <th>last_name</th>\n",
       "        <th>first_name</th>\n",
       "        <th>title</th>\n",
       "        <th>reports_to</th>\n",
       "        <th>birthdate</th>\n",
       "        <th>hire_date</th>\n",
       "        <th>address</th>\n",
       "        <th>city</th>\n",
       "        <th>state</th>\n",
       "        <th>country</th>\n",
       "        <th>postal_code</th>\n",
       "        <th>phone</th>\n",
       "        <th>fax</th>\n",
       "        <th>email</th>\n",
       "    </tr>\n",
       "    <tr>\n",
       "        <td>3</td>\n",
       "        <td>Peacock</td>\n",
       "        <td>Jane</td>\n",
       "        <td>Sales Support Agent</td>\n",
       "        <td>2</td>\n",
       "        <td>1973-08-29 00:00:00</td>\n",
       "        <td>2017-04-01 00:00:00</td>\n",
       "        <td>1111 6 Ave SW</td>\n",
       "        <td>Calgary</td>\n",
       "        <td>AB</td>\n",
       "        <td>Canada</td>\n",
       "        <td>T2P 5M5</td>\n",
       "        <td>+1 (403) 262-3443</td>\n",
       "        <td>+1 (403) 262-6712</td>\n",
       "        <td>jane@chinookcorp.com</td>\n",
       "    </tr>\n",
       "    <tr>\n",
       "        <td>4</td>\n",
       "        <td>Park</td>\n",
       "        <td>Margaret</td>\n",
       "        <td>Sales Support Agent</td>\n",
       "        <td>2</td>\n",
       "        <td>1947-09-19 00:00:00</td>\n",
       "        <td>2017-05-03 00:00:00</td>\n",
       "        <td>683 10 Street SW</td>\n",
       "        <td>Calgary</td>\n",
       "        <td>AB</td>\n",
       "        <td>Canada</td>\n",
       "        <td>T2P 5G3</td>\n",
       "        <td>+1 (403) 263-4423</td>\n",
       "        <td>+1 (403) 263-4289</td>\n",
       "        <td>margaret@chinookcorp.com</td>\n",
       "    </tr>\n",
       "    <tr>\n",
       "        <td>5</td>\n",
       "        <td>Johnson</td>\n",
       "        <td>Steve</td>\n",
       "        <td>Sales Support Agent</td>\n",
       "        <td>2</td>\n",
       "        <td>1965-03-03 00:00:00</td>\n",
       "        <td>2017-10-17 00:00:00</td>\n",
       "        <td>7727B 41 Ave</td>\n",
       "        <td>Calgary</td>\n",
       "        <td>AB</td>\n",
       "        <td>Canada</td>\n",
       "        <td>T3B 1Y7</td>\n",
       "        <td>1 (780) 836-9987</td>\n",
       "        <td>1 (780) 836-9543</td>\n",
       "        <td>steve@chinookcorp.com</td>\n",
       "    </tr>\n",
       "</table>"
      ],
      "text/plain": [
       "[(3, 'Peacock', 'Jane', 'Sales Support Agent', 2, '1973-08-29 00:00:00', '2017-04-01 00:00:00', '1111 6 Ave SW', 'Calgary', 'AB', 'Canada', 'T2P 5M5', '+1 (403) 262-3443', '+1 (403) 262-6712', 'jane@chinookcorp.com'),\n",
       " (4, 'Park', 'Margaret', 'Sales Support Agent', 2, '1947-09-19 00:00:00', '2017-05-03 00:00:00', '683 10 Street SW', 'Calgary', 'AB', 'Canada', 'T2P 5G3', '+1 (403) 263-4423', '+1 (403) 263-4289', 'margaret@chinookcorp.com'),\n",
       " (5, 'Johnson', 'Steve', 'Sales Support Agent', 2, '1965-03-03 00:00:00', '2017-10-17 00:00:00', '7727B 41 Ave', 'Calgary', 'AB', 'Canada', 'T3B 1Y7', '1 (780) 836-9987', '1 (780) 836-9543', 'steve@chinookcorp.com')]"
      ]
     },
     "execution_count": 9,
     "metadata": {},
     "output_type": "execute_result"
    }
   ],
   "source": [
    "%%sql\n",
    "SELECT * FROM employee WHERE title = 'Sales Support Agent';"
   ]
  },
  {
   "cell_type": "markdown",
   "metadata": {},
   "source": [
    "## Problem 2: Conclusion\n",
    "\n",
    "After examing the employee details, we can see that all the sales support agents report to the same manager and are from the same area. Jane has seniority when it comes to hiring, however, she only started one month before Margaret and six months before Steve. The last notable detail is that she is the youngest of the 3. She was born in 1973 while Margaret and Steve were born in 1947 and 1965, respectively. Perhaps a combination of starting at the company sooner and her younger age contributed to her ability to sell more (there's a possibility of age discrimination of we enforce policies based off of age).\n",
    "\n",
    "## Problem 3\n",
    "\n",
    "Your next task is to analyze the sales data for customers from each different country. You have been given guidance to use the country value from the customers table, and ignore the country from the billing address in the invoice table.\n",
    "\n",
    "In particular, you have been directed to calculate data, for each country, on the:\n",
    "\n",
    "- total number of customers\n",
    "- total value of sales\n",
    "- average value of sales per customer\n",
    "- average order value\n",
    "\n",
    "Because there are a number of countries with only one customer, you should group these customers as \"Other\" in your analysis.\n"
   ]
  },
  {
   "cell_type": "code",
   "execution_count": 10,
   "metadata": {
    "collapsed": false
   },
   "outputs": [
    {
     "name": "stdout",
     "output_type": "stream",
     "text": [
      "Done.\n"
     ]
    },
    {
     "data": {
      "text/html": [
       "<table>\n",
       "    <tr>\n",
       "        <th>country</th>\n",
       "        <th>customers</th>\n",
       "        <th>total_sales</th>\n",
       "        <th>customer_lifetime_value</th>\n",
       "        <th>average_order</th>\n",
       "    </tr>\n",
       "    <tr>\n",
       "        <td>USA</td>\n",
       "        <td>13</td>\n",
       "        <td>1040.4900000000005</td>\n",
       "        <td>80.03769230769234</td>\n",
       "        <td>7.942671755725194</td>\n",
       "    </tr>\n",
       "    <tr>\n",
       "        <td>Canada</td>\n",
       "        <td>8</td>\n",
       "        <td>535.59</td>\n",
       "        <td>66.94875</td>\n",
       "        <td>7.047236842105264</td>\n",
       "    </tr>\n",
       "    <tr>\n",
       "        <td>Brazil</td>\n",
       "        <td>5</td>\n",
       "        <td>427.6799999999999</td>\n",
       "        <td>85.53599999999997</td>\n",
       "        <td>7.011147540983605</td>\n",
       "    </tr>\n",
       "    <tr>\n",
       "        <td>France</td>\n",
       "        <td>5</td>\n",
       "        <td>389.07000000000005</td>\n",
       "        <td>77.81400000000001</td>\n",
       "        <td>7.781400000000001</td>\n",
       "    </tr>\n",
       "    <tr>\n",
       "        <td>Germany</td>\n",
       "        <td>4</td>\n",
       "        <td>334.61999999999995</td>\n",
       "        <td>83.65499999999999</td>\n",
       "        <td>8.161463414634145</td>\n",
       "    </tr>\n",
       "    <tr>\n",
       "        <td>United Kingdom</td>\n",
       "        <td>3</td>\n",
       "        <td>245.52</td>\n",
       "        <td>81.84</td>\n",
       "        <td>8.768571428571429</td>\n",
       "    </tr>\n",
       "    <tr>\n",
       "        <td>Czech Republic</td>\n",
       "        <td>2</td>\n",
       "        <td>273.23999999999995</td>\n",
       "        <td>136.61999999999998</td>\n",
       "        <td>9.107999999999999</td>\n",
       "    </tr>\n",
       "    <tr>\n",
       "        <td>India</td>\n",
       "        <td>2</td>\n",
       "        <td>183.14999999999995</td>\n",
       "        <td>91.57499999999997</td>\n",
       "        <td>8.72142857142857</td>\n",
       "    </tr>\n",
       "    <tr>\n",
       "        <td>Portugal</td>\n",
       "        <td>2</td>\n",
       "        <td>185.13</td>\n",
       "        <td>92.565</td>\n",
       "        <td>6.3837931034482756</td>\n",
       "    </tr>\n",
       "    <tr>\n",
       "        <td>Other</td>\n",
       "        <td>15</td>\n",
       "        <td>1094.9399999999998</td>\n",
       "        <td>72.996</td>\n",
       "        <td>7.4485714285714275</td>\n",
       "    </tr>\n",
       "</table>"
      ],
      "text/plain": [
       "[('USA', 13, 1040.4900000000005, 80.03769230769234, 7.942671755725194),\n",
       " ('Canada', 8, 535.59, 66.94875, 7.047236842105264),\n",
       " ('Brazil', 5, 427.6799999999999, 85.53599999999997, 7.011147540983605),\n",
       " ('France', 5, 389.07000000000005, 77.81400000000001, 7.781400000000001),\n",
       " ('Germany', 4, 334.61999999999995, 83.65499999999999, 8.161463414634145),\n",
       " ('United Kingdom', 3, 245.52, 81.84, 8.768571428571429),\n",
       " ('Czech Republic', 2, 273.23999999999995, 136.61999999999998, 9.107999999999999),\n",
       " ('India', 2, 183.14999999999995, 91.57499999999997, 8.72142857142857),\n",
       " ('Portugal', 2, 185.13, 92.565, 6.3837931034482756),\n",
       " ('Other', 15, 1094.9399999999998, 72.996, 7.4485714285714275)]"
      ]
     },
     "execution_count": 10,
     "metadata": {},
     "output_type": "execute_result"
    }
   ],
   "source": [
    "%%sql\n",
    "WITH country_customers AS\n",
    "    (\n",
    "    SELECT\n",
    "        c.country country,\n",
    "        COUNT(c.customer_id) n_customers\n",
    "    FROM customer c\n",
    "    GROUP BY 1\n",
    "    ORDER BY 2 DESC\n",
    "    ), \n",
    "    country_sales AS\n",
    "    (\n",
    "    SELECT\n",
    "        c.country country,\n",
    "        SUM(i.total) n_sales,\n",
    "        COUNT(i.invoice_id) n_orders\n",
    "    FROM customer c\n",
    "    LEFT JOIN invoice i ON i.customer_id = c.customer_id\n",
    "    GROUP BY 1\n",
    "    ORDER BY 2 DESC\n",
    "    ),\n",
    "    country_sales_avg AS\n",
    "    (\n",
    "    SELECT\n",
    "        CASE\n",
    "            WHEN cc.n_customers = 1 THEN 'Other'\n",
    "            ELSE cc.country\n",
    "            END\n",
    "            AS sales_country,\n",
    "        SUM(cc.n_customers) n_customers,\n",
    "        SUM(cs.n_sales) n_sales,\n",
    "        SUM(cs.n_sales) / SUM(cc.n_customers) avg_sales,\n",
    "        SUM(cs.n_sales) / SUM(cs.n_orders) avg_order        \n",
    "    FROM country_customers cc\n",
    "    LEFT JOIN country_sales cs ON cc.country = cs.country\n",
    "    GROUP BY 1\n",
    "    ORDER BY 2 DESC\n",
    "    ),\n",
    "    country_sales_avg_sort AS\n",
    "    (\n",
    "    SELECT\n",
    "        csa.*,\n",
    "        CASE\n",
    "            WHEN sales_country = 'Other' THEN 1\n",
    "            ELSE 0\n",
    "            END \n",
    "            AS sort\n",
    "    FROM country_sales_avg csa\n",
    "    ORDER BY sort ASC\n",
    "    )\n",
    "\n",
    "SELECT\n",
    "    sales_country country,\n",
    "    n_customers customers,\n",
    "    n_sales total_sales,\n",
    "    avg_sales customer_lifetime_value,\n",
    "    avg_order average_order\n",
    "FROM country_sales_avg_sort;"
   ]
  },
  {
   "cell_type": "markdown",
   "metadata": {
    "collapsed": true
   },
   "source": [
    "## Problem 3: Conclusion\n",
    "From our sales data there are a few countries that have data that stands out:\n",
    "\n",
    "- United Kingdom\n",
    "- Czech Republic\n",
    "- India\n",
    "\n",
    "The average order size from those three countries are range from 8.7-9.1 while the rest range between 6.4-9.2. Czech Republic also has a significantly higher Lifetime Customer Value (LCV) than the rest coming in $47 higher than the country with the second highest LCV.\n",
    "\n",
    "## Problem 4\n",
    "\n",
    "Management are currently considering changing their purchasing strategy to save money. The strategy they are considering is to purchase only the most popular tracks from each album from record companies, instead of purchasing every track from an album.\n",
    "\n",
    "We have been asked to find out what percentage of purchases are individual tracks vs whole albums, so that management can use this data to understand the effect this decision might have on overall revenue.\n",
    "\n",
    "It is very common when you are performing an analysis to have 'edge cases' which prevent you from getting a 100% accurate answer to your question. In this instance, we have two edge cases to consider:\n",
    "\n",
    "- Albums that have only one or two tracks are likely to be purchased by customers as part of a collection of individual tracks.\n",
    "- Customers may decide to manually select every track from an album, and then add a few individual tracks from other albums to their purchase.\n",
    "\n",
    "In the first case, since our analysis is concerned with maximizing revenue we can safely ignore albums consisting of only a few tracks. The company has previously done analysis to confirm that the second case does not happen often, so we can ignore this case also.\n"
   ]
  },
  {
   "cell_type": "code",
   "execution_count": 34,
   "metadata": {
    "collapsed": false
   },
   "outputs": [
    {
     "name": "stdout",
     "output_type": "stream",
     "text": [
      "Done.\n"
     ]
    },
    {
     "data": {
      "text/html": [
       "<table>\n",
       "    <tr>\n",
       "        <th>album_purchase</th>\n",
       "        <th>invoice_count</th>\n",
       "        <th>percentage</th>\n",
       "    </tr>\n",
       "    <tr>\n",
       "        <td>NO</td>\n",
       "        <td>500</td>\n",
       "        <td>0.8143322475570033</td>\n",
       "    </tr>\n",
       "    <tr>\n",
       "        <td>YES</td>\n",
       "        <td>114</td>\n",
       "        <td>0.18566775244299674</td>\n",
       "    </tr>\n",
       "</table>"
      ],
      "text/plain": [
       "[('NO', 500, 0.8143322475570033), ('YES', 114, 0.18566775244299674)]"
      ]
     },
     "execution_count": 34,
     "metadata": {},
     "output_type": "execute_result"
    }
   ],
   "source": [
    "%%sql\n",
    "WITH list_invoice_songs AS\n",
    "        (\n",
    "        SELECT\n",
    "            i.invoice_id invoice_id,\n",
    "            MIN(il.track_id) one_track\n",
    "        FROM invoice i\n",
    "        INNER JOIN invoice_line il on i.invoice_id = il.invoice_id\n",
    "        GROUP BY 1\n",
    "        ),\n",
    "    list_invoice_albums AS\n",
    "        (\n",
    "        SELECT\n",
    "             lis.*,\n",
    "             t.album_id\n",
    "        FROM list_invoice_songs lis\n",
    "        LEFT JOIN track t ON t.track_id = lis.one_track\n",
    "        )\n",
    "SELECT\n",
    "    album_purchase,\n",
    "    COUNT(*) invoice_count,\n",
    "    CAST(COUNT(*) AS float) / (SELECT COUNT(*)FROM invoice) percentage\n",
    "FROM\n",
    "    (\n",
    "    SELECT\n",
    "        lis.*,\n",
    "        CASE\n",
    "            WHEN\n",
    "                (\n",
    "                SELECT\n",
    "                    il.track_id\n",
    "                FROM invoice_line il\n",
    "                WHERE il.invoice_id = lis.invoice_id\n",
    "\n",
    "\n",
    "                EXCEPT\n",
    "\n",
    "                SELECT\n",
    "                     t.track_id\n",
    "                 FROM track t\n",
    "                 WHERE t.album_id = lis.album_id\n",
    "                ) IS NULL\n",
    "            AND\n",
    "                (\n",
    "                SELECT\n",
    "                     t.track_id\n",
    "                FROM track t\n",
    "                WHERE t.album_id = lis.album_id\n",
    "\n",
    "\n",
    "                EXCEPT\n",
    "\n",
    "\n",
    "                SELECT\n",
    "                    il.track_id\n",
    "                FROM invoice_line il\n",
    "                WHERE il.invoice_id = lis.invoice_id\n",
    "                ) IS NULL\n",
    "            THEN 'YES'\n",
    "            ELSE 'NO'\n",
    "        END AS album_purchase\n",
    "    FROM list_invoice_albums lis\n",
    "    )\n",
    "GROUP BY album_purchase;"
   ]
  },
  {
   "cell_type": "markdown",
   "metadata": {},
   "source": [
    "## Problem 4: Conclusion\n",
    "Album purchase make up almost 20% of the purchases. I recommend against"
   ]
  },
  {
   "cell_type": "code",
   "execution_count": null,
   "metadata": {
    "collapsed": true
   },
   "outputs": [],
   "source": []
  }
 ],
 "metadata": {
  "kernelspec": {
   "display_name": "Python 3",
   "language": "python",
   "name": "python3"
  },
  "language_info": {
   "codemirror_mode": {
    "name": "ipython",
    "version": 3
   },
   "file_extension": ".py",
   "mimetype": "text/x-python",
   "name": "python",
   "nbconvert_exporter": "python",
   "pygments_lexer": "ipython3",
   "version": "3.4.3"
  }
 },
 "nbformat": 4,
 "nbformat_minor": 2
}
